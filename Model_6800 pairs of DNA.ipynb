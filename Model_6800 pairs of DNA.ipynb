{
 "cells": [
  {
   "cell_type": "code",
   "execution_count": 5,
   "id": "4633fe94-ba94-44c9-a0b4-d3512d398b49",
   "metadata": {},
   "outputs": [],
   "source": [
    "#Importing Libraries:\n",
    "import pandas as pd\n",
    "import numpy as np\n",
    "import matplotlib.pyplot as plt\n",
    "from sklearn.tree import DecisionTreeClassifier\n",
    "from sklearn.ensemble import RandomForestClassifier\n",
    "from sklearn.ensemble import GradientBoostingClassifier\n",
    "from sklearn.datasets import make_classification\n",
    "from sklearn.model_selection import GridSearchCV\n",
    "from scipy.stats import randint\n",
    "from sklearn.metrics import confusion_matrix, matthews_corrcoef\n",
    "from sklearn.neighbors import KNeighborsClassifier"
   ]
  },
  {
   "cell_type": "code",
   "execution_count": 6,
   "id": "ac046859-3a9f-4a1f-8a82-7bf551c39e3f",
   "metadata": {},
   "outputs": [
    {
     "name": "stdout",
     "output_type": "stream",
     "text": [
      " Volume in drive C is Windows-SSD\n",
      " Volume Serial Number is 04D2-DEF4\n",
      "\n",
      " Directory of C:\\Users\\estef\\Dropbox\\mis_modelos\\LDA\n",
      "\n",
      "19/03/2024  15:08    <DIR>          .\n",
      "18/01/2024  15:25    <DIR>          ..\n",
      "14/03/2024  16:06    <DIR>          .ipynb_checkpoints\n",
      "05/02/2024  16:34           365,282 05_02_24_version_definitiva.ipynb\n",
      "09/02/2024  13:44           264,237 06_02_24_version_definitiva.ipynb\n",
      "23/02/2024  20:11           237,003 06_02_24_version_definitiva_Todas_las _secuencias - Copy.ipynb\n",
      "07/09/2023  15:54           127,104 1_9_05_2023.ipynb\n",
      "01/03/2024  16:21           347,248 1_Ultimo_LDA_DNA - copia.ipynb\n",
      "26/01/2024  11:21           316,579 17_01_2023_Modelos_lLDA.ipynb\n",
      "01/02/2024  09:48           233,242 19_01_24_version_definitiva ..ipynb\n",
      "31/01/2024  23:24           210,910 25_1_sep.ipynb\n",
      "10/01/2024  20:43            95,447 25_sep_LDA.ipynb\n",
      "05/09/2023  23:42            53,291 3_Modelo_KNN_Optimizado.ipynb\n",
      "04/09/2023  19:01             5,861 Array.ipynb\n",
      "07/09/2023  15:56            22,434 Clasification.ipynb\n",
      "17/01/2024  16:32           109,685 Confusion_matrix.png\n",
      "06/02/2024  10:43            60,034 Confusion_matrix_Forest.png\n",
      "25/09/2023  18:50           512,527 data_DNA.csv\n",
      "02/09/2023  18:31         7,699,276 Data_LDA.csv\n",
      "02/09/2023  17:52         1,832,168 Data_LDA.xlsb\n",
      "17/01/2024  16:32           109,685 grafica_training and validation.png\n",
      "02/02/2024  15:19            14,752 Lazzy_LDA.ipynb\n",
      "06/03/2024  11:22            58,228 LDAiterations.png\n",
      "11/03/2024  16:20           131,079 Lineal_Discriminant.ipynb\n",
      "23/02/2024  16:40            16,004 Metric_plot.png\n",
      "11/03/2024  15:34            26,385 Metric_plot_2.png\n",
      "19/03/2024  15:08           268,230 Model_6800 pairs of DNA.ipynb\n",
      "01/03/2024  16:15           230,581 Models_100.000 pairs of DNA.ipynb\n",
      "31/01/2024  14:56             4,981 para probar que errores tengo .ipynb\n",
      "06/03/2024  11:22            41,037 Prueba.ipynb\n",
      "17/01/2024  22:54            27,484 Ramdom_Forest.ipynb\n",
      "11/03/2024  15:35           350,447 roc_curve_pred.png\n",
      "23/02/2024  20:10           311,181 roc_curve_pred_2.png\n",
      "17/01/2024  19:00           347,338 roc_curve_test.png\n",
      "11/03/2024  15:35           349,998 roc_curve_train.png\n",
      "23/02/2024  20:06           311,335 roc_curve_train_2.png\n",
      "06/02/2024  10:26           392,894 roc_curve_validation.png\n",
      "31/01/2024  23:40           366,795 Ultimo_LDA_DNA.ipynb\n",
      "26/01/2024  11:11             3,707 Untitled.ipynb\n",
      "31/01/2024  22:49             4,981 Untitled1.ipynb\n",
      "10/02/2024  09:51             1,584 Untitled10.ipynb\n",
      "21/02/2024  19:33                72 Untitled11.ipynb\n",
      "01/03/2024  16:13            18,344 Untitled12.ipynb\n",
      "04/03/2024  15:03            12,796 Untitled13.ipynb\n",
      "07/03/2024  00:57            25,125 Untitled14.ipynb\n",
      "04/03/2024  16:34                72 Untitled15.ipynb\n",
      "06/03/2024  11:00                72 Untitled16.ipynb\n",
      "11/03/2024  06:25               337 Untitled17.ipynb\n",
      "06/03/2024  13:31            49,142 Untitled18.ipynb\n",
      "11/03/2024  15:10               617 Untitled19.ipynb\n",
      "31/01/2024  23:21            10,769 Untitled2.ipynb\n",
      "11/03/2024  16:05             3,375 Untitled20.ipynb\n",
      "14/03/2024  16:20             2,593 Untitled21.ipynb\n",
      "02/02/2024  15:09            17,933 Untitled3.ipynb\n",
      "10/01/2024  20:29               617 Untitled4.ipynb\n",
      "06/02/2024  10:13            53,522 Untitled5.ipynb\n",
      "02/02/2024  15:33             2,545 Untitled6.ipynb\n",
      "06/02/2024  11:09                72 Untitled7.ipynb\n",
      "06/02/2024  14:33                72 Untitled8.ipynb\n",
      "06/02/2024  21:30                72 Untitled9.ipynb\n",
      "17/01/2024  17:43           245,707 version final_27_09_23_sin optimizar.ipynb\n",
      "10/02/2024  09:51             7,139 vinylidene_chloride_polymer.png\n",
      "              59 File(s)     16,312,027 bytes\n",
      "               3 Dir(s)  284,634,570,752 bytes free\n"
     ]
    }
   ],
   "source": [
    "ls"
   ]
  },
  {
   "cell_type": "code",
   "execution_count": 7,
   "id": "b611e400-c9ea-4f44-80b8-be24ab7f8971",
   "metadata": {},
   "outputs": [
    {
     "data": {
      "text/html": [
       "<div>\n",
       "<style scoped>\n",
       "    .dataframe tbody tr th:only-of-type {\n",
       "        vertical-align: middle;\n",
       "    }\n",
       "\n",
       "    .dataframe tbody tr th {\n",
       "        vertical-align: top;\n",
       "    }\n",
       "\n",
       "    .dataframe thead th {\n",
       "        text-align: right;\n",
       "    }\n",
       "</style>\n",
       "<table border=\"1\" class=\"dataframe\">\n",
       "  <thead>\n",
       "    <tr style=\"text-align: right;\">\n",
       "      <th></th>\n",
       "      <th>n-pair</th>\n",
       "      <th>q-seq</th>\n",
       "      <th>r-seq</th>\n",
       "      <th>eq(obs)</th>\n",
       "      <th>eqpred</th>\n",
       "      <th>p(eq=1)</th>\n",
       "      <th>prediction_trainig</th>\n",
       "      <th>eref</th>\n",
       "      <th>Dq0_Seq</th>\n",
       "      <th>Dq1_Seq</th>\n",
       "      <th>Dq2_Seq</th>\n",
       "    </tr>\n",
       "  </thead>\n",
       "  <tbody>\n",
       "    <tr>\n",
       "      <th>0</th>\n",
       "      <td>1</td>\n",
       "      <td>RL2F_267</td>\n",
       "      <td>Control_1043</td>\n",
       "      <td>1</td>\n",
       "      <td>1</td>\n",
       "      <td>0.736</td>\n",
       "      <td>training</td>\n",
       "      <td>-0.419</td>\n",
       "      <td>-2.211</td>\n",
       "      <td>-2.154</td>\n",
       "      <td>-2.144</td>\n",
       "    </tr>\n",
       "    <tr>\n",
       "      <th>1</th>\n",
       "      <td>18</td>\n",
       "      <td>RL2F_267</td>\n",
       "      <td>RL2F_479</td>\n",
       "      <td>1</td>\n",
       "      <td>1</td>\n",
       "      <td>0.735</td>\n",
       "      <td>training</td>\n",
       "      <td>2.384</td>\n",
       "      <td>-2.211</td>\n",
       "      <td>-2.154</td>\n",
       "      <td>-2.144</td>\n",
       "    </tr>\n",
       "    <tr>\n",
       "      <th>2</th>\n",
       "      <td>27</td>\n",
       "      <td>RL2F_693</td>\n",
       "      <td>Control_0650</td>\n",
       "      <td>1</td>\n",
       "      <td>1</td>\n",
       "      <td>0.964</td>\n",
       "      <td>training</td>\n",
       "      <td>-0.419</td>\n",
       "      <td>-2.461</td>\n",
       "      <td>-2.425</td>\n",
       "      <td>-2.420</td>\n",
       "    </tr>\n",
       "    <tr>\n",
       "      <th>3</th>\n",
       "      <td>47</td>\n",
       "      <td>RL2F_693</td>\n",
       "      <td>RL2F_458</td>\n",
       "      <td>1</td>\n",
       "      <td>1</td>\n",
       "      <td>0.964</td>\n",
       "      <td>training</td>\n",
       "      <td>2.384</td>\n",
       "      <td>-2.461</td>\n",
       "      <td>-2.425</td>\n",
       "      <td>-2.420</td>\n",
       "    </tr>\n",
       "    <tr>\n",
       "      <th>4</th>\n",
       "      <td>51</td>\n",
       "      <td>RL2F_559</td>\n",
       "      <td>RL1F_021</td>\n",
       "      <td>1</td>\n",
       "      <td>0</td>\n",
       "      <td>0.187</td>\n",
       "      <td>prediction</td>\n",
       "      <td>2.384</td>\n",
       "      <td>-1.744</td>\n",
       "      <td>-1.734</td>\n",
       "      <td>-1.731</td>\n",
       "    </tr>\n",
       "    <tr>\n",
       "      <th>5</th>\n",
       "      <td>54</td>\n",
       "      <td>RL2F_559</td>\n",
       "      <td>Control_0228</td>\n",
       "      <td>1</td>\n",
       "      <td>0</td>\n",
       "      <td>0.187</td>\n",
       "      <td>training</td>\n",
       "      <td>-0.419</td>\n",
       "      <td>-1.744</td>\n",
       "      <td>-1.734</td>\n",
       "      <td>-1.731</td>\n",
       "    </tr>\n",
       "    <tr>\n",
       "      <th>6</th>\n",
       "      <td>75</td>\n",
       "      <td>RL2F_268</td>\n",
       "      <td>Control_0873</td>\n",
       "      <td>1</td>\n",
       "      <td>0</td>\n",
       "      <td>0.039</td>\n",
       "      <td>training</td>\n",
       "      <td>-0.419</td>\n",
       "      <td>-1.134</td>\n",
       "      <td>-1.137</td>\n",
       "      <td>-1.138</td>\n",
       "    </tr>\n",
       "    <tr>\n",
       "      <th>7</th>\n",
       "      <td>81</td>\n",
       "      <td>RL2F_268</td>\n",
       "      <td>RL2F_267</td>\n",
       "      <td>1</td>\n",
       "      <td>0</td>\n",
       "      <td>0.039</td>\n",
       "      <td>training</td>\n",
       "      <td>2.384</td>\n",
       "      <td>-1.134</td>\n",
       "      <td>-1.137</td>\n",
       "      <td>-1.138</td>\n",
       "    </tr>\n",
       "    <tr>\n",
       "      <th>8</th>\n",
       "      <td>99</td>\n",
       "      <td>RL2F_296</td>\n",
       "      <td>RL2F_304</td>\n",
       "      <td>1</td>\n",
       "      <td>0</td>\n",
       "      <td>0.113</td>\n",
       "      <td>training</td>\n",
       "      <td>2.384</td>\n",
       "      <td>-1.612</td>\n",
       "      <td>-1.609</td>\n",
       "      <td>-1.607</td>\n",
       "    </tr>\n",
       "    <tr>\n",
       "      <th>9</th>\n",
       "      <td>109</td>\n",
       "      <td>RL2F_296</td>\n",
       "      <td>Control_0225</td>\n",
       "      <td>1</td>\n",
       "      <td>0</td>\n",
       "      <td>0.113</td>\n",
       "      <td>prediction</td>\n",
       "      <td>-0.419</td>\n",
       "      <td>-1.612</td>\n",
       "      <td>-1.609</td>\n",
       "      <td>-1.607</td>\n",
       "    </tr>\n",
       "    <tr>\n",
       "      <th>10</th>\n",
       "      <td>134</td>\n",
       "      <td>RL2F_300</td>\n",
       "      <td>RL1F_050</td>\n",
       "      <td>1</td>\n",
       "      <td>0</td>\n",
       "      <td>0.057</td>\n",
       "      <td>training</td>\n",
       "      <td>2.384</td>\n",
       "      <td>-1.713</td>\n",
       "      <td>-1.709</td>\n",
       "      <td>-1.708</td>\n",
       "    </tr>\n",
       "    <tr>\n",
       "      <th>11</th>\n",
       "      <td>139</td>\n",
       "      <td>RL2F_300</td>\n",
       "      <td>Control_2700</td>\n",
       "      <td>1</td>\n",
       "      <td>0</td>\n",
       "      <td>0.057</td>\n",
       "      <td>training</td>\n",
       "      <td>-0.419</td>\n",
       "      <td>-1.713</td>\n",
       "      <td>-1.709</td>\n",
       "      <td>-1.708</td>\n",
       "    </tr>\n",
       "    <tr>\n",
       "      <th>12</th>\n",
       "      <td>158</td>\n",
       "      <td>RL2F_459</td>\n",
       "      <td>RL1F_111</td>\n",
       "      <td>1</td>\n",
       "      <td>0</td>\n",
       "      <td>0.005</td>\n",
       "      <td>training</td>\n",
       "      <td>2.384</td>\n",
       "      <td>0.022</td>\n",
       "      <td>0.037</td>\n",
       "      <td>0.039</td>\n",
       "    </tr>\n",
       "    <tr>\n",
       "      <th>13</th>\n",
       "      <td>164</td>\n",
       "      <td>RL2F_459</td>\n",
       "      <td>Control_0282</td>\n",
       "      <td>1</td>\n",
       "      <td>0</td>\n",
       "      <td>0.005</td>\n",
       "      <td>training</td>\n",
       "      <td>-0.419</td>\n",
       "      <td>0.022</td>\n",
       "      <td>0.037</td>\n",
       "      <td>0.039</td>\n",
       "    </tr>\n",
       "    <tr>\n",
       "      <th>14</th>\n",
       "      <td>187</td>\n",
       "      <td>RL1F_192</td>\n",
       "      <td>Control_1089</td>\n",
       "      <td>1</td>\n",
       "      <td>0</td>\n",
       "      <td>0.375</td>\n",
       "      <td>prediction</td>\n",
       "      <td>-0.419</td>\n",
       "      <td>0.316</td>\n",
       "      <td>0.315</td>\n",
       "      <td>0.314</td>\n",
       "    </tr>\n",
       "    <tr>\n",
       "      <th>15</th>\n",
       "      <td>213</td>\n",
       "      <td>RL1F_192</td>\n",
       "      <td>RL1F_082</td>\n",
       "      <td>1</td>\n",
       "      <td>0</td>\n",
       "      <td>0.375</td>\n",
       "      <td>training</td>\n",
       "      <td>2.384</td>\n",
       "      <td>0.316</td>\n",
       "      <td>0.315</td>\n",
       "      <td>0.314</td>\n",
       "    </tr>\n",
       "    <tr>\n",
       "      <th>16</th>\n",
       "      <td>228</td>\n",
       "      <td>RL1F_069</td>\n",
       "      <td>Control_2627</td>\n",
       "      <td>1</td>\n",
       "      <td>0</td>\n",
       "      <td>0.309</td>\n",
       "      <td>training</td>\n",
       "      <td>-0.419</td>\n",
       "      <td>0.409</td>\n",
       "      <td>0.409</td>\n",
       "      <td>0.408</td>\n",
       "    </tr>\n",
       "    <tr>\n",
       "      <th>17</th>\n",
       "      <td>253</td>\n",
       "      <td>RL1F_069</td>\n",
       "      <td>RL2F_467</td>\n",
       "      <td>1</td>\n",
       "      <td>0</td>\n",
       "      <td>0.309</td>\n",
       "      <td>training</td>\n",
       "      <td>2.384</td>\n",
       "      <td>0.409</td>\n",
       "      <td>0.409</td>\n",
       "      <td>0.408</td>\n",
       "    </tr>\n",
       "    <tr>\n",
       "      <th>18</th>\n",
       "      <td>259</td>\n",
       "      <td>RL1F_072</td>\n",
       "      <td>RL1F_184</td>\n",
       "      <td>1</td>\n",
       "      <td>1</td>\n",
       "      <td>0.581</td>\n",
       "      <td>training</td>\n",
       "      <td>2.384</td>\n",
       "      <td>0.354</td>\n",
       "      <td>0.353</td>\n",
       "      <td>0.353</td>\n",
       "    </tr>\n",
       "    <tr>\n",
       "      <th>19</th>\n",
       "      <td>260</td>\n",
       "      <td>RL1F_072</td>\n",
       "      <td>Control_1657</td>\n",
       "      <td>1</td>\n",
       "      <td>1</td>\n",
       "      <td>0.581</td>\n",
       "      <td>prediction</td>\n",
       "      <td>-0.419</td>\n",
       "      <td>0.354</td>\n",
       "      <td>0.353</td>\n",
       "      <td>0.353</td>\n",
       "    </tr>\n",
       "  </tbody>\n",
       "</table>\n",
       "</div>"
      ],
      "text/plain": [
       "    n-pair     q-seq         r-seq  eq(obs)  eqpred  p(eq=1)  \\\n",
       "0        1  RL2F_267  Control_1043        1       1    0.736   \n",
       "1       18  RL2F_267      RL2F_479        1       1    0.735   \n",
       "2       27  RL2F_693  Control_0650        1       1    0.964   \n",
       "3       47  RL2F_693      RL2F_458        1       1    0.964   \n",
       "4       51  RL2F_559      RL1F_021        1       0    0.187   \n",
       "5       54  RL2F_559  Control_0228        1       0    0.187   \n",
       "6       75  RL2F_268  Control_0873        1       0    0.039   \n",
       "7       81  RL2F_268      RL2F_267        1       0    0.039   \n",
       "8       99  RL2F_296      RL2F_304        1       0    0.113   \n",
       "9      109  RL2F_296  Control_0225        1       0    0.113   \n",
       "10     134  RL2F_300      RL1F_050        1       0    0.057   \n",
       "11     139  RL2F_300  Control_2700        1       0    0.057   \n",
       "12     158  RL2F_459      RL1F_111        1       0    0.005   \n",
       "13     164  RL2F_459  Control_0282        1       0    0.005   \n",
       "14     187  RL1F_192  Control_1089        1       0    0.375   \n",
       "15     213  RL1F_192      RL1F_082        1       0    0.375   \n",
       "16     228  RL1F_069  Control_2627        1       0    0.309   \n",
       "17     253  RL1F_069      RL2F_467        1       0    0.309   \n",
       "18     259  RL1F_072      RL1F_184        1       1    0.581   \n",
       "19     260  RL1F_072  Control_1657        1       1    0.581   \n",
       "\n",
       "   prediction_trainig   eref  Dq0_Seq  Dq1_Seq  Dq2_Seq  \n",
       "0            training -0.419   -2.211   -2.154   -2.144  \n",
       "1            training  2.384   -2.211   -2.154   -2.144  \n",
       "2            training -0.419   -2.461   -2.425   -2.420  \n",
       "3            training  2.384   -2.461   -2.425   -2.420  \n",
       "4         prediction   2.384   -1.744   -1.734   -1.731  \n",
       "5            training -0.419   -1.744   -1.734   -1.731  \n",
       "6            training -0.419   -1.134   -1.137   -1.138  \n",
       "7            training  2.384   -1.134   -1.137   -1.138  \n",
       "8            training  2.384   -1.612   -1.609   -1.607  \n",
       "9         prediction  -0.419   -1.612   -1.609   -1.607  \n",
       "10           training  2.384   -1.713   -1.709   -1.708  \n",
       "11           training -0.419   -1.713   -1.709   -1.708  \n",
       "12           training  2.384    0.022    0.037    0.039  \n",
       "13           training -0.419    0.022    0.037    0.039  \n",
       "14        prediction  -0.419    0.316    0.315    0.314  \n",
       "15           training  2.384    0.316    0.315    0.314  \n",
       "16           training -0.419    0.409    0.409    0.408  \n",
       "17           training  2.384    0.409    0.409    0.408  \n",
       "18           training  2.384    0.354    0.353    0.353  \n",
       "19        prediction  -0.419    0.354    0.353    0.353  "
      ]
     },
     "execution_count": 7,
     "metadata": {},
     "output_type": "execute_result"
    }
   ],
   "source": [
    "#Loading Data:\n",
    "pd.read_csv(\"Data_DNA.csv\")\n",
    "data = pd.read_csv(\"Data_DNA.csv\")\n",
    "data.head(20)"
   ]
  },
  {
   "cell_type": "code",
   "execution_count": 8,
   "id": "9ea9efc5-8edf-49c4-8ca9-035ca9b4e6ef",
   "metadata": {},
   "outputs": [
    {
     "name": "stdout",
     "output_type": "stream",
     "text": [
      "5440\n",
      "1360\n"
     ]
    }
   ],
   "source": [
    "#Checking Data:\n",
    "data[\"prediction_trainig\"] = data[\"prediction_trainig\"].str.strip()\n",
    "print(len(data[data[\"prediction_trainig\"] == \"training\"]))\n",
    "print(len(data[data[\"prediction_trainig\"] == \"prediction\"]))"
   ]
  },
  {
   "cell_type": "code",
   "execution_count": 9,
   "id": "11d15c98-5c49-453d-9e22-86fab9a8dd9d",
   "metadata": {},
   "outputs": [],
   "source": [
    "#Data Splitting:\n",
    "Y= data.iloc[:,3]\n",
    "X = data.iloc[:, 7:]"
   ]
  },
  {
   "cell_type": "code",
   "execution_count": 10,
   "id": "8bd47fda-3e27-40ad-a8cc-c3ddb4dfff75",
   "metadata": {},
   "outputs": [],
   "source": [
    "#Splitting Data into Training and Prediction Sets:\n",
    "train_data = data[data[\"prediction_trainig\"] == \"training\"]\n",
    "pred_data = data[data[\"prediction_trainig\"] == \"prediction\"]"
   ]
  },
  {
   "cell_type": "code",
   "execution_count": 11,
   "id": "873cab73-d59e-4703-bf71-1af07e899f49",
   "metadata": {},
   "outputs": [
    {
     "name": "stdout",
     "output_type": "stream",
     "text": [
      "(1360, 4)\n",
      "(5440, 4)\n",
      "(1360,)\n",
      "(5440,)\n"
     ]
    }
   ],
   "source": [
    "# Model Preparation for Decision Tree\n",
    "X_train_tree= train_data.iloc[:, 7:]\n",
    "X_test_tree= pred_data.iloc[:, 7:]\n",
    "y_train_tree= train_data.iloc[:, 3]\n",
    "y_test_tree= pred_data.iloc[:, 3]\n",
    "\n",
    "print(X_test_tree.shape)\n",
    "print(X_train_tree.shape)\n",
    "print(y_test_tree.shape)\n",
    "print(y_train_tree.shape)"
   ]
  },
  {
   "cell_type": "code",
   "execution_count": 12,
   "id": "81446dd0-720c-4baa-a728-09caa3a7664e",
   "metadata": {},
   "outputs": [
    {
     "name": "stdout",
     "output_type": "stream",
     "text": [
      "(1360, 4)\n",
      "(5440, 4)\n",
      "(1360,)\n",
      "(5440,)\n"
     ]
    }
   ],
   "source": [
    "#Model Preparation for Random Forest:\n",
    "X_train_forest= train_data.iloc[:, 7:]\n",
    "X_test_forest = pred_data.iloc[:, 7:]\n",
    "y_train_forest= train_data.iloc[:, 3]\n",
    "y_test_forest= pred_data.iloc[:, 3]\n",
    "\n",
    "print(X_test_forest.shape)\n",
    "print(X_train_forest.shape)\n",
    "print(y_test_forest.shape)\n",
    "print(y_train_forest.shape)"
   ]
  },
  {
   "cell_type": "code",
   "execution_count": 23,
   "id": "20ececf8-d3f6-47fe-8e35-dc71cccaff54",
   "metadata": {},
   "outputs": [
    {
     "name": "stdout",
     "output_type": "stream",
     "text": [
      "(1360, 4)\n",
      "(5440, 4)\n",
      "(1360,)\n",
      "(5440,)\n"
     ]
    }
   ],
   "source": [
    "#Model Preparation for Gradient Boosting:\n",
    "X_train_gb= train_data.iloc[:, 7:]\n",
    "X_test_gb= pred_data.iloc[:, 7:]\n",
    "y_train_gb= train_data.iloc[:, 3]\n",
    "y_test_gb= pred_data.iloc[:, 3]\n",
    "\n",
    "print(X_test_gb.shape)\n",
    "print(X_train_gb.shape)\n",
    "print(y_test_gb.shape)\n",
    "print(y_train_gb.shape)"
   ]
  },
  {
   "cell_type": "code",
   "execution_count": 24,
   "id": "ab27a2b1-5aba-4114-aef2-779b7c2d6fb5",
   "metadata": {},
   "outputs": [
    {
     "name": "stdout",
     "output_type": "stream",
     "text": [
      "(1360, 4)\n",
      "(5440, 4)\n",
      "(1360,)\n",
      "(5440,)\n"
     ]
    }
   ],
   "source": [
    "# Model Preparation for KNeighborsClassifier \n",
    "X_train_KNN= train_data.iloc[:, 7:]\n",
    "X_test_KNN= pred_data.iloc[:, 7:]\n",
    "y_train_KNN= train_data.iloc[:, 3]\n",
    "y_test_KNN= pred_data.iloc[:, 3]\n",
    "\n",
    "print(X_test_KNN.shape)\n",
    "print(X_train_KNN.shape)\n",
    "print(y_test_KNN.shape)\n",
    "print(y_train_KNN.shape)"
   ]
  },
  {
   "cell_type": "code",
   "execution_count": 25,
   "id": "22fbfde6-8f7a-4ca0-a007-78aa5df36b23",
   "metadata": {},
   "outputs": [],
   "source": [
    "#X_tree\n",
    "mlr_X_train_tree= X_train_tree[['eref', 'Dq0_Seq', 'Dq1_Seq','Dq2_Seq']]\n",
    "mlr_X_test_tree = X_test_tree[['eref', 'Dq0_Seq', 'Dq1_Seq','Dq2_Seq']]"
   ]
  },
  {
   "cell_type": "code",
   "execution_count": 26,
   "id": "aaab9dc8-7306-46a2-bade-aace13b1b3d9",
   "metadata": {},
   "outputs": [],
   "source": [
    "#X_forest\n",
    "mlr_X_train_forest= X_train_forest[['eref', 'Dq0_Seq', 'Dq1_Seq','Dq2_Seq']]\n",
    "mlr_X_test_forest = X_test_forest[['eref', 'Dq0_Seq', 'Dq1_Seq','Dq2_Seq']]"
   ]
  },
  {
   "cell_type": "code",
   "execution_count": 27,
   "id": "d450d8fc-2859-4965-8887-8b32a53d755d",
   "metadata": {},
   "outputs": [],
   "source": [
    "#X_gb\n",
    "mlr_X_train_gb= X_train_gb[['eref', 'Dq0_Seq', 'Dq1_Seq','Dq2_Seq']]\n",
    "mlr_X_test_gb= X_test_gb[['eref', 'Dq0_Seq', 'Dq1_Seq','Dq2_Seq']]"
   ]
  },
  {
   "cell_type": "code",
   "execution_count": 28,
   "id": "60baf1ce-5174-4dda-ae4b-c5182839d7de",
   "metadata": {},
   "outputs": [],
   "source": [
    "#X_KN\n",
    "mlr_X_train_KNN= X_train_KNN[['eref', 'Dq0_Seq', 'Dq1_Seq','Dq2_Seq']]\n",
    "mlr_X_test_KNN = X_test_KNN[['eref', 'Dq0_Seq', 'Dq1_Seq','Dq2_Seq']]"
   ]
  },
  {
   "cell_type": "code",
   "execution_count": 29,
   "id": "e6fec43c-1b68-4907-8321-8f9f06445648",
   "metadata": {},
   "outputs": [],
   "source": [
    "seed = 40\n",
    "# Define the decision tree model\n",
    "tree_model = DecisionTreeClassifier(random_state=seed)"
   ]
  },
  {
   "cell_type": "code",
   "execution_count": 30,
   "id": "5a28bbd9-66f6-4aa9-aa07-2515a9d7bff2",
   "metadata": {},
   "outputs": [],
   "source": [
    "#Define the hyperparameter search space\n",
    "param_grid = {\n",
    "    #'criterion': ['gini', 'entropy'],\n",
    "    'max_depth': [10],\n",
    "    'min_samples_split': [7],\n",
    "    'min_samples_leaf': [2]\n",
    "}"
   ]
  },
  {
   "cell_type": "code",
   "execution_count": 31,
   "id": "46f458f5-3051-4df3-945a-433b71e35a96",
   "metadata": {},
   "outputs": [],
   "source": [
    "# Define the hyperparameter search space\n",
    "#param_grid = {\n",
    "   # 'criterion': ['gini', 'entropy'],\n",
    "    #'max_depth': [None, 5, 10, 15],\n",
    "    #'min_samples_split': [2, 5, 10],\n",
    "    #'min_samples_leaf': [1, 2, 4]\n",
    "#}"
   ]
  },
  {
   "cell_type": "code",
   "execution_count": 32,
   "id": "d3fd7219-52be-47ff-8dbd-ba177a4cc39f",
   "metadata": {},
   "outputs": [
    {
     "data": {
      "text/html": [
       "<style>#sk-container-id-2 {color: black;}#sk-container-id-2 pre{padding: 0;}#sk-container-id-2 div.sk-toggleable {background-color: white;}#sk-container-id-2 label.sk-toggleable__label {cursor: pointer;display: block;width: 100%;margin-bottom: 0;padding: 0.3em;box-sizing: border-box;text-align: center;}#sk-container-id-2 label.sk-toggleable__label-arrow:before {content: \"▸\";float: left;margin-right: 0.25em;color: #696969;}#sk-container-id-2 label.sk-toggleable__label-arrow:hover:before {color: black;}#sk-container-id-2 div.sk-estimator:hover label.sk-toggleable__label-arrow:before {color: black;}#sk-container-id-2 div.sk-toggleable__content {max-height: 0;max-width: 0;overflow: hidden;text-align: left;background-color: #f0f8ff;}#sk-container-id-2 div.sk-toggleable__content pre {margin: 0.2em;color: black;border-radius: 0.25em;background-color: #f0f8ff;}#sk-container-id-2 input.sk-toggleable__control:checked~div.sk-toggleable__content {max-height: 200px;max-width: 100%;overflow: auto;}#sk-container-id-2 input.sk-toggleable__control:checked~label.sk-toggleable__label-arrow:before {content: \"▾\";}#sk-container-id-2 div.sk-estimator input.sk-toggleable__control:checked~label.sk-toggleable__label {background-color: #d4ebff;}#sk-container-id-2 div.sk-label input.sk-toggleable__control:checked~label.sk-toggleable__label {background-color: #d4ebff;}#sk-container-id-2 input.sk-hidden--visually {border: 0;clip: rect(1px 1px 1px 1px);clip: rect(1px, 1px, 1px, 1px);height: 1px;margin: -1px;overflow: hidden;padding: 0;position: absolute;width: 1px;}#sk-container-id-2 div.sk-estimator {font-family: monospace;background-color: #f0f8ff;border: 1px dotted black;border-radius: 0.25em;box-sizing: border-box;margin-bottom: 0.5em;}#sk-container-id-2 div.sk-estimator:hover {background-color: #d4ebff;}#sk-container-id-2 div.sk-parallel-item::after {content: \"\";width: 100%;border-bottom: 1px solid gray;flex-grow: 1;}#sk-container-id-2 div.sk-label:hover label.sk-toggleable__label {background-color: #d4ebff;}#sk-container-id-2 div.sk-serial::before {content: \"\";position: absolute;border-left: 1px solid gray;box-sizing: border-box;top: 0;bottom: 0;left: 50%;z-index: 0;}#sk-container-id-2 div.sk-serial {display: flex;flex-direction: column;align-items: center;background-color: white;padding-right: 0.2em;padding-left: 0.2em;position: relative;}#sk-container-id-2 div.sk-item {position: relative;z-index: 1;}#sk-container-id-2 div.sk-parallel {display: flex;align-items: stretch;justify-content: center;background-color: white;position: relative;}#sk-container-id-2 div.sk-item::before, #sk-container-id-2 div.sk-parallel-item::before {content: \"\";position: absolute;border-left: 1px solid gray;box-sizing: border-box;top: 0;bottom: 0;left: 50%;z-index: -1;}#sk-container-id-2 div.sk-parallel-item {display: flex;flex-direction: column;z-index: 1;position: relative;background-color: white;}#sk-container-id-2 div.sk-parallel-item:first-child::after {align-self: flex-end;width: 50%;}#sk-container-id-2 div.sk-parallel-item:last-child::after {align-self: flex-start;width: 50%;}#sk-container-id-2 div.sk-parallel-item:only-child::after {width: 0;}#sk-container-id-2 div.sk-dashed-wrapped {border: 1px dashed gray;margin: 0 0.4em 0.5em 0.4em;box-sizing: border-box;padding-bottom: 0.4em;background-color: white;}#sk-container-id-2 div.sk-label label {font-family: monospace;font-weight: bold;display: inline-block;line-height: 1.2em;}#sk-container-id-2 div.sk-label-container {text-align: center;}#sk-container-id-2 div.sk-container {/* jupyter's `normalize.less` sets `[hidden] { display: none; }` but bootstrap.min.css set `[hidden] { display: none !important; }` so we also need the `!important` here to be able to override the default hidden behavior on the sphinx rendered scikit-learn.org. See: https://github.com/scikit-learn/scikit-learn/issues/21755 */display: inline-block !important;position: relative;}#sk-container-id-2 div.sk-text-repr-fallback {display: none;}</style><div id=\"sk-container-id-2\" class=\"sk-top-container\"><div class=\"sk-text-repr-fallback\"><pre>GridSearchCV(cv=5, estimator=DecisionTreeClassifier(random_state=40),\n",
       "             param_grid={&#x27;max_depth&#x27;: [10], &#x27;min_samples_leaf&#x27;: [2],\n",
       "                         &#x27;min_samples_split&#x27;: [7]},\n",
       "             scoring=&#x27;accuracy&#x27;)</pre><b>In a Jupyter environment, please rerun this cell to show the HTML representation or trust the notebook. <br />On GitHub, the HTML representation is unable to render, please try loading this page with nbviewer.org.</b></div><div class=\"sk-container\" hidden><div class=\"sk-item sk-dashed-wrapped\"><div class=\"sk-label-container\"><div class=\"sk-label sk-toggleable\"><input class=\"sk-toggleable__control sk-hidden--visually\" id=\"sk-estimator-id-4\" type=\"checkbox\" ><label for=\"sk-estimator-id-4\" class=\"sk-toggleable__label sk-toggleable__label-arrow\">GridSearchCV</label><div class=\"sk-toggleable__content\"><pre>GridSearchCV(cv=5, estimator=DecisionTreeClassifier(random_state=40),\n",
       "             param_grid={&#x27;max_depth&#x27;: [10], &#x27;min_samples_leaf&#x27;: [2],\n",
       "                         &#x27;min_samples_split&#x27;: [7]},\n",
       "             scoring=&#x27;accuracy&#x27;)</pre></div></div></div><div class=\"sk-parallel\"><div class=\"sk-parallel-item\"><div class=\"sk-item\"><div class=\"sk-label-container\"><div class=\"sk-label sk-toggleable\"><input class=\"sk-toggleable__control sk-hidden--visually\" id=\"sk-estimator-id-5\" type=\"checkbox\" ><label for=\"sk-estimator-id-5\" class=\"sk-toggleable__label sk-toggleable__label-arrow\">estimator: DecisionTreeClassifier</label><div class=\"sk-toggleable__content\"><pre>DecisionTreeClassifier(random_state=40)</pre></div></div></div><div class=\"sk-serial\"><div class=\"sk-item\"><div class=\"sk-estimator sk-toggleable\"><input class=\"sk-toggleable__control sk-hidden--visually\" id=\"sk-estimator-id-6\" type=\"checkbox\" ><label for=\"sk-estimator-id-6\" class=\"sk-toggleable__label sk-toggleable__label-arrow\">DecisionTreeClassifier</label><div class=\"sk-toggleable__content\"><pre>DecisionTreeClassifier(random_state=40)</pre></div></div></div></div></div></div></div></div></div></div>"
      ],
      "text/plain": [
       "GridSearchCV(cv=5, estimator=DecisionTreeClassifier(random_state=40),\n",
       "             param_grid={'max_depth': [10], 'min_samples_leaf': [2],\n",
       "                         'min_samples_split': [7]},\n",
       "             scoring='accuracy')"
      ]
     },
     "execution_count": 32,
     "metadata": {},
     "output_type": "execute_result"
    }
   ],
   "source": [
    "# Perform hyperparameter search by cross-validation\n",
    "grid_search_tree = GridSearchCV(tree_model, param_grid, cv=5, scoring='accuracy')\n",
    "grid_search_tree.fit(mlr_X_train_tree, y_train_tree)"
   ]
  },
  {
   "cell_type": "code",
   "execution_count": 33,
   "id": "e2a23dbf-868f-44ff-832c-004b1038b090",
   "metadata": {},
   "outputs": [
    {
     "name": "stdout",
     "output_type": "stream",
     "text": [
      "better hyperparameters : {'max_depth': 10, 'min_samples_leaf': 2, 'min_samples_split': 7}\n"
     ]
    }
   ],
   "source": [
    "# Print the best hyperparameters \n",
    "best_params = grid_search_tree.best_params_\n",
    "print(\"better hyperparameters :\", best_params)"
   ]
  },
  {
   "cell_type": "code",
   "execution_count": 34,
   "id": "91d8509f-e242-42f1-9940-d3530f7c7cd1",
   "metadata": {},
   "outputs": [
    {
     "name": "stdout",
     "output_type": "stream",
     "text": [
      "\n",
      "All hyperparameters:\n",
      "ccp_alpha: 0.0\n",
      "class_weight: None\n",
      "criterion: gini\n",
      "max_depth: 10\n",
      "max_features: None\n",
      "max_leaf_nodes: None\n",
      "min_impurity_decrease: 0.0\n",
      "min_samples_leaf: 2\n",
      "min_samples_split: 7\n",
      "min_weight_fraction_leaf: 0.0\n",
      "random_state: 40\n",
      "splitter: best\n"
     ]
    }
   ],
   "source": [
    " # Print all hyperparameters, including internal hyperparameters\n",
    "all_params = grid_search_tree.best_estimator_.get_params()\n",
    "print(\"\\nAll hyperparameters:\")\n",
    "for param_name in sorted(all_params.keys()):\n",
    "    print(f\"{param_name}: {all_params[param_name]}\")"
   ]
  },
  {
   "cell_type": "code",
   "execution_count": 35,
   "id": "735d7645-286f-4838-8efa-2d239dc54ffd",
   "metadata": {},
   "outputs": [],
   "source": [
    "# ramdom forest models"
   ]
  },
  {
   "cell_type": "code",
   "execution_count": 36,
   "id": "4a06c00d-a125-4b03-98b9-34b4c4a494bf",
   "metadata": {},
   "outputs": [],
   "source": [
    "#  X__forest \n",
    "mlr_X_train_forest= X_train_forest[['eref', 'Dq0_Seq', 'Dq1_Seq','Dq2_Seq']]\n",
    "mlr_X_test_forest = X_test_forest[['eref', 'Dq0_Seq', 'Dq1_Seq','Dq2_Seq']]"
   ]
  },
  {
   "cell_type": "code",
   "execution_count": 37,
   "id": "ca6c38dd-21a8-44c3-ad47-b9a011ab566c",
   "metadata": {},
   "outputs": [],
   "source": [
    "# Define the random forest model\n",
    "seed = 44\n",
    "rf_model = RandomForestClassifier(random_state=seed)"
   ]
  },
  {
   "cell_type": "code",
   "execution_count": 38,
   "id": "4ea72a99-092c-4230-a3d2-b73b73189914",
   "metadata": {},
   "outputs": [],
   "source": [
    "# Definir el rango de hiperparámetros a explorar\n",
    "#param_grid = {\n",
    "   # 'n_estimators': [50, 100, 200],\n",
    "    #'max_depth': [None, 10, 20],\n",
    "    #'min_samples_split': [2, 5, 10],\n",
    "    #'min_samples_leaf': [1, 2, 4]\n",
    "#}"
   ]
  },
  {
   "cell_type": "code",
   "execution_count": 39,
   "id": "2e76d007-13c4-496a-94f8-f0ff3f614aff",
   "metadata": {},
   "outputs": [],
   "source": [
    "#Define the hyperparameter search space\n",
    "param_grid = {\n",
    "    'n_estimators': [50],\n",
    "    'max_depth': [10],\n",
    "    'min_samples_split': [4],\n",
    "    'min_samples_leaf': [2]\n",
    "}"
   ]
  },
  {
   "cell_type": "code",
   "execution_count": 40,
   "id": "62c487fd-c5b9-40ae-965a-e0622db7132b",
   "metadata": {},
   "outputs": [
    {
     "data": {
      "text/html": [
       "<style>#sk-container-id-3 {color: black;}#sk-container-id-3 pre{padding: 0;}#sk-container-id-3 div.sk-toggleable {background-color: white;}#sk-container-id-3 label.sk-toggleable__label {cursor: pointer;display: block;width: 100%;margin-bottom: 0;padding: 0.3em;box-sizing: border-box;text-align: center;}#sk-container-id-3 label.sk-toggleable__label-arrow:before {content: \"▸\";float: left;margin-right: 0.25em;color: #696969;}#sk-container-id-3 label.sk-toggleable__label-arrow:hover:before {color: black;}#sk-container-id-3 div.sk-estimator:hover label.sk-toggleable__label-arrow:before {color: black;}#sk-container-id-3 div.sk-toggleable__content {max-height: 0;max-width: 0;overflow: hidden;text-align: left;background-color: #f0f8ff;}#sk-container-id-3 div.sk-toggleable__content pre {margin: 0.2em;color: black;border-radius: 0.25em;background-color: #f0f8ff;}#sk-container-id-3 input.sk-toggleable__control:checked~div.sk-toggleable__content {max-height: 200px;max-width: 100%;overflow: auto;}#sk-container-id-3 input.sk-toggleable__control:checked~label.sk-toggleable__label-arrow:before {content: \"▾\";}#sk-container-id-3 div.sk-estimator input.sk-toggleable__control:checked~label.sk-toggleable__label {background-color: #d4ebff;}#sk-container-id-3 div.sk-label input.sk-toggleable__control:checked~label.sk-toggleable__label {background-color: #d4ebff;}#sk-container-id-3 input.sk-hidden--visually {border: 0;clip: rect(1px 1px 1px 1px);clip: rect(1px, 1px, 1px, 1px);height: 1px;margin: -1px;overflow: hidden;padding: 0;position: absolute;width: 1px;}#sk-container-id-3 div.sk-estimator {font-family: monospace;background-color: #f0f8ff;border: 1px dotted black;border-radius: 0.25em;box-sizing: border-box;margin-bottom: 0.5em;}#sk-container-id-3 div.sk-estimator:hover {background-color: #d4ebff;}#sk-container-id-3 div.sk-parallel-item::after {content: \"\";width: 100%;border-bottom: 1px solid gray;flex-grow: 1;}#sk-container-id-3 div.sk-label:hover label.sk-toggleable__label {background-color: #d4ebff;}#sk-container-id-3 div.sk-serial::before {content: \"\";position: absolute;border-left: 1px solid gray;box-sizing: border-box;top: 0;bottom: 0;left: 50%;z-index: 0;}#sk-container-id-3 div.sk-serial {display: flex;flex-direction: column;align-items: center;background-color: white;padding-right: 0.2em;padding-left: 0.2em;position: relative;}#sk-container-id-3 div.sk-item {position: relative;z-index: 1;}#sk-container-id-3 div.sk-parallel {display: flex;align-items: stretch;justify-content: center;background-color: white;position: relative;}#sk-container-id-3 div.sk-item::before, #sk-container-id-3 div.sk-parallel-item::before {content: \"\";position: absolute;border-left: 1px solid gray;box-sizing: border-box;top: 0;bottom: 0;left: 50%;z-index: -1;}#sk-container-id-3 div.sk-parallel-item {display: flex;flex-direction: column;z-index: 1;position: relative;background-color: white;}#sk-container-id-3 div.sk-parallel-item:first-child::after {align-self: flex-end;width: 50%;}#sk-container-id-3 div.sk-parallel-item:last-child::after {align-self: flex-start;width: 50%;}#sk-container-id-3 div.sk-parallel-item:only-child::after {width: 0;}#sk-container-id-3 div.sk-dashed-wrapped {border: 1px dashed gray;margin: 0 0.4em 0.5em 0.4em;box-sizing: border-box;padding-bottom: 0.4em;background-color: white;}#sk-container-id-3 div.sk-label label {font-family: monospace;font-weight: bold;display: inline-block;line-height: 1.2em;}#sk-container-id-3 div.sk-label-container {text-align: center;}#sk-container-id-3 div.sk-container {/* jupyter's `normalize.less` sets `[hidden] { display: none; }` but bootstrap.min.css set `[hidden] { display: none !important; }` so we also need the `!important` here to be able to override the default hidden behavior on the sphinx rendered scikit-learn.org. See: https://github.com/scikit-learn/scikit-learn/issues/21755 */display: inline-block !important;position: relative;}#sk-container-id-3 div.sk-text-repr-fallback {display: none;}</style><div id=\"sk-container-id-3\" class=\"sk-top-container\"><div class=\"sk-text-repr-fallback\"><pre>GridSearchCV(cv=5, estimator=RandomForestClassifier(random_state=44), n_jobs=-1,\n",
       "             param_grid={&#x27;max_depth&#x27;: [10], &#x27;min_samples_leaf&#x27;: [2],\n",
       "                         &#x27;min_samples_split&#x27;: [4], &#x27;n_estimators&#x27;: [50]},\n",
       "             scoring=&#x27;accuracy&#x27;)</pre><b>In a Jupyter environment, please rerun this cell to show the HTML representation or trust the notebook. <br />On GitHub, the HTML representation is unable to render, please try loading this page with nbviewer.org.</b></div><div class=\"sk-container\" hidden><div class=\"sk-item sk-dashed-wrapped\"><div class=\"sk-label-container\"><div class=\"sk-label sk-toggleable\"><input class=\"sk-toggleable__control sk-hidden--visually\" id=\"sk-estimator-id-7\" type=\"checkbox\" ><label for=\"sk-estimator-id-7\" class=\"sk-toggleable__label sk-toggleable__label-arrow\">GridSearchCV</label><div class=\"sk-toggleable__content\"><pre>GridSearchCV(cv=5, estimator=RandomForestClassifier(random_state=44), n_jobs=-1,\n",
       "             param_grid={&#x27;max_depth&#x27;: [10], &#x27;min_samples_leaf&#x27;: [2],\n",
       "                         &#x27;min_samples_split&#x27;: [4], &#x27;n_estimators&#x27;: [50]},\n",
       "             scoring=&#x27;accuracy&#x27;)</pre></div></div></div><div class=\"sk-parallel\"><div class=\"sk-parallel-item\"><div class=\"sk-item\"><div class=\"sk-label-container\"><div class=\"sk-label sk-toggleable\"><input class=\"sk-toggleable__control sk-hidden--visually\" id=\"sk-estimator-id-8\" type=\"checkbox\" ><label for=\"sk-estimator-id-8\" class=\"sk-toggleable__label sk-toggleable__label-arrow\">estimator: RandomForestClassifier</label><div class=\"sk-toggleable__content\"><pre>RandomForestClassifier(random_state=44)</pre></div></div></div><div class=\"sk-serial\"><div class=\"sk-item\"><div class=\"sk-estimator sk-toggleable\"><input class=\"sk-toggleable__control sk-hidden--visually\" id=\"sk-estimator-id-9\" type=\"checkbox\" ><label for=\"sk-estimator-id-9\" class=\"sk-toggleable__label sk-toggleable__label-arrow\">RandomForestClassifier</label><div class=\"sk-toggleable__content\"><pre>RandomForestClassifier(random_state=44)</pre></div></div></div></div></div></div></div></div></div></div>"
      ],
      "text/plain": [
       "GridSearchCV(cv=5, estimator=RandomForestClassifier(random_state=44), n_jobs=-1,\n",
       "             param_grid={'max_depth': [10], 'min_samples_leaf': [2],\n",
       "                         'min_samples_split': [4], 'n_estimators': [50]},\n",
       "             scoring='accuracy')"
      ]
     },
     "execution_count": 40,
     "metadata": {},
     "output_type": "execute_result"
    }
   ],
   "source": [
    "# Perform hyperparameter search by cross-validation\n",
    "grid_search_forest = GridSearchCV(estimator=rf_model, param_grid=param_grid, cv=5, scoring='accuracy', n_jobs=-1)\n",
    "# fit model\n",
    "grid_search_forest.fit(mlr_X_train_forest, y_train_forest)"
   ]
  },
  {
   "cell_type": "code",
   "execution_count": 41,
   "id": "58b9d6a7-bf3c-4f01-96b6-05b3552df3ec",
   "metadata": {},
   "outputs": [
    {
     "name": "stdout",
     "output_type": "stream",
     "text": [
      "Mejores hiperparámetros: {'max_depth': 10, 'min_samples_leaf': 2, 'min_samples_split': 4, 'n_estimators': 50}\n"
     ]
    }
   ],
   "source": [
    "# best hyperparameters\n",
    "best_params = grid_search_forest.best_params_\n",
    "print(\"Mejores hiperparámetros:\", best_params)"
   ]
  },
  {
   "cell_type": "code",
   "execution_count": 42,
   "id": "3a601e88-050f-49d4-af3d-d8e026b26dca",
   "metadata": {},
   "outputs": [
    {
     "name": "stdout",
     "output_type": "stream",
     "text": [
      "\n",
      "Todos los hiperparámetros:\n",
      "bootstrap: True\n",
      "ccp_alpha: 0.0\n",
      "class_weight: None\n",
      "criterion: gini\n",
      "max_depth: 10\n",
      "max_features: sqrt\n",
      "max_leaf_nodes: None\n",
      "max_samples: None\n",
      "min_impurity_decrease: 0.0\n",
      "min_samples_leaf: 2\n",
      "min_samples_split: 4\n",
      "min_weight_fraction_leaf: 0.0\n",
      "n_estimators: 50\n",
      "n_jobs: None\n",
      "oob_score: False\n",
      "random_state: 44\n",
      "verbose: 0\n",
      "warm_start: False\n"
     ]
    }
   ],
   "source": [
    "# Print all hyperparameters, including internal hyperparameters\n",
    "all_params = grid_search_forest.best_estimator_.get_params()\n",
    "print(\"\\nTodos los hiperparámetros:\")\n",
    "for param_name in sorted(all_params.keys()):\n",
    "    print(f\"{param_name}: {all_params[param_name]}\")"
   ]
  },
  {
   "cell_type": "code",
   "execution_count": 43,
   "id": "7c123d00-d56f-4a9e-98eb-0356041c5bc5",
   "metadata": {},
   "outputs": [],
   "source": [
    "seed = 42\n",
    "# Define the Gradient Boosting model\n",
    "gb_model = GradientBoostingClassifier(random_state=seed)"
   ]
  },
  {
   "cell_type": "code",
   "execution_count": 44,
   "id": "cd85947d-fa33-4f49-a52a-3be9548ba084",
   "metadata": {},
   "outputs": [],
   "source": [
    "# X_gb\n",
    "mlr_X_train_gb= X_train_gb[['eref', 'Dq0_Seq', 'Dq1_Seq','Dq2_Seq']]\n",
    "mlr_X_test_gb = X_test_gb[['eref', 'Dq0_Seq', 'Dq1_Seq','Dq2_Seq']]"
   ]
  },
  {
   "cell_type": "code",
   "execution_count": 45,
   "id": "7c26464f-bbea-4da0-881c-6ed064206271",
   "metadata": {},
   "outputs": [],
   "source": [
    "# Define the range of hyperparameters to scan\n",
    "#param_grid = {\n",
    "    #'n_estimators': [50, 100, 200],\n",
    "    #'learning_rate': [0.01, 0.1, 0.2],\n",
    "    #'max_depth': [3, 5, 7],\n",
    "    #'min_samples_split': [2, 5, 10],\n",
    "   # 'min_samples_leaf': [1, 2, 4]\n",
    "#}"
   ]
  },
  {
   "cell_type": "code",
   "execution_count": 46,
   "id": "7d8eab89-afc6-40dc-bb4d-b717325b5a04",
   "metadata": {},
   "outputs": [],
   "source": [
    "param_grid = {\n",
    "    'n_estimators': [80],\n",
    "    'learning_rate': [0.5],\n",
    "    'max_depth': [4],\n",
    "    'min_samples_split': [4],\n",
    "    'min_samples_leaf': [6]\n",
    "}"
   ]
  },
  {
   "cell_type": "code",
   "execution_count": 47,
   "id": "a9271219-8108-45ac-8753-98eba46f1986",
   "metadata": {},
   "outputs": [
    {
     "data": {
      "text/html": [
       "<style>#sk-container-id-4 {color: black;}#sk-container-id-4 pre{padding: 0;}#sk-container-id-4 div.sk-toggleable {background-color: white;}#sk-container-id-4 label.sk-toggleable__label {cursor: pointer;display: block;width: 100%;margin-bottom: 0;padding: 0.3em;box-sizing: border-box;text-align: center;}#sk-container-id-4 label.sk-toggleable__label-arrow:before {content: \"▸\";float: left;margin-right: 0.25em;color: #696969;}#sk-container-id-4 label.sk-toggleable__label-arrow:hover:before {color: black;}#sk-container-id-4 div.sk-estimator:hover label.sk-toggleable__label-arrow:before {color: black;}#sk-container-id-4 div.sk-toggleable__content {max-height: 0;max-width: 0;overflow: hidden;text-align: left;background-color: #f0f8ff;}#sk-container-id-4 div.sk-toggleable__content pre {margin: 0.2em;color: black;border-radius: 0.25em;background-color: #f0f8ff;}#sk-container-id-4 input.sk-toggleable__control:checked~div.sk-toggleable__content {max-height: 200px;max-width: 100%;overflow: auto;}#sk-container-id-4 input.sk-toggleable__control:checked~label.sk-toggleable__label-arrow:before {content: \"▾\";}#sk-container-id-4 div.sk-estimator input.sk-toggleable__control:checked~label.sk-toggleable__label {background-color: #d4ebff;}#sk-container-id-4 div.sk-label input.sk-toggleable__control:checked~label.sk-toggleable__label {background-color: #d4ebff;}#sk-container-id-4 input.sk-hidden--visually {border: 0;clip: rect(1px 1px 1px 1px);clip: rect(1px, 1px, 1px, 1px);height: 1px;margin: -1px;overflow: hidden;padding: 0;position: absolute;width: 1px;}#sk-container-id-4 div.sk-estimator {font-family: monospace;background-color: #f0f8ff;border: 1px dotted black;border-radius: 0.25em;box-sizing: border-box;margin-bottom: 0.5em;}#sk-container-id-4 div.sk-estimator:hover {background-color: #d4ebff;}#sk-container-id-4 div.sk-parallel-item::after {content: \"\";width: 100%;border-bottom: 1px solid gray;flex-grow: 1;}#sk-container-id-4 div.sk-label:hover label.sk-toggleable__label {background-color: #d4ebff;}#sk-container-id-4 div.sk-serial::before {content: \"\";position: absolute;border-left: 1px solid gray;box-sizing: border-box;top: 0;bottom: 0;left: 50%;z-index: 0;}#sk-container-id-4 div.sk-serial {display: flex;flex-direction: column;align-items: center;background-color: white;padding-right: 0.2em;padding-left: 0.2em;position: relative;}#sk-container-id-4 div.sk-item {position: relative;z-index: 1;}#sk-container-id-4 div.sk-parallel {display: flex;align-items: stretch;justify-content: center;background-color: white;position: relative;}#sk-container-id-4 div.sk-item::before, #sk-container-id-4 div.sk-parallel-item::before {content: \"\";position: absolute;border-left: 1px solid gray;box-sizing: border-box;top: 0;bottom: 0;left: 50%;z-index: -1;}#sk-container-id-4 div.sk-parallel-item {display: flex;flex-direction: column;z-index: 1;position: relative;background-color: white;}#sk-container-id-4 div.sk-parallel-item:first-child::after {align-self: flex-end;width: 50%;}#sk-container-id-4 div.sk-parallel-item:last-child::after {align-self: flex-start;width: 50%;}#sk-container-id-4 div.sk-parallel-item:only-child::after {width: 0;}#sk-container-id-4 div.sk-dashed-wrapped {border: 1px dashed gray;margin: 0 0.4em 0.5em 0.4em;box-sizing: border-box;padding-bottom: 0.4em;background-color: white;}#sk-container-id-4 div.sk-label label {font-family: monospace;font-weight: bold;display: inline-block;line-height: 1.2em;}#sk-container-id-4 div.sk-label-container {text-align: center;}#sk-container-id-4 div.sk-container {/* jupyter's `normalize.less` sets `[hidden] { display: none; }` but bootstrap.min.css set `[hidden] { display: none !important; }` so we also need the `!important` here to be able to override the default hidden behavior on the sphinx rendered scikit-learn.org. See: https://github.com/scikit-learn/scikit-learn/issues/21755 */display: inline-block !important;position: relative;}#sk-container-id-4 div.sk-text-repr-fallback {display: none;}</style><div id=\"sk-container-id-4\" class=\"sk-top-container\"><div class=\"sk-text-repr-fallback\"><pre>GridSearchCV(cv=5, estimator=GradientBoostingClassifier(random_state=42),\n",
       "             n_jobs=-1,\n",
       "             param_grid={&#x27;learning_rate&#x27;: [0.5], &#x27;max_depth&#x27;: [4],\n",
       "                         &#x27;min_samples_leaf&#x27;: [6], &#x27;min_samples_split&#x27;: [4],\n",
       "                         &#x27;n_estimators&#x27;: [80]},\n",
       "             scoring=&#x27;accuracy&#x27;)</pre><b>In a Jupyter environment, please rerun this cell to show the HTML representation or trust the notebook. <br />On GitHub, the HTML representation is unable to render, please try loading this page with nbviewer.org.</b></div><div class=\"sk-container\" hidden><div class=\"sk-item sk-dashed-wrapped\"><div class=\"sk-label-container\"><div class=\"sk-label sk-toggleable\"><input class=\"sk-toggleable__control sk-hidden--visually\" id=\"sk-estimator-id-10\" type=\"checkbox\" ><label for=\"sk-estimator-id-10\" class=\"sk-toggleable__label sk-toggleable__label-arrow\">GridSearchCV</label><div class=\"sk-toggleable__content\"><pre>GridSearchCV(cv=5, estimator=GradientBoostingClassifier(random_state=42),\n",
       "             n_jobs=-1,\n",
       "             param_grid={&#x27;learning_rate&#x27;: [0.5], &#x27;max_depth&#x27;: [4],\n",
       "                         &#x27;min_samples_leaf&#x27;: [6], &#x27;min_samples_split&#x27;: [4],\n",
       "                         &#x27;n_estimators&#x27;: [80]},\n",
       "             scoring=&#x27;accuracy&#x27;)</pre></div></div></div><div class=\"sk-parallel\"><div class=\"sk-parallel-item\"><div class=\"sk-item\"><div class=\"sk-label-container\"><div class=\"sk-label sk-toggleable\"><input class=\"sk-toggleable__control sk-hidden--visually\" id=\"sk-estimator-id-11\" type=\"checkbox\" ><label for=\"sk-estimator-id-11\" class=\"sk-toggleable__label sk-toggleable__label-arrow\">estimator: GradientBoostingClassifier</label><div class=\"sk-toggleable__content\"><pre>GradientBoostingClassifier(random_state=42)</pre></div></div></div><div class=\"sk-serial\"><div class=\"sk-item\"><div class=\"sk-estimator sk-toggleable\"><input class=\"sk-toggleable__control sk-hidden--visually\" id=\"sk-estimator-id-12\" type=\"checkbox\" ><label for=\"sk-estimator-id-12\" class=\"sk-toggleable__label sk-toggleable__label-arrow\">GradientBoostingClassifier</label><div class=\"sk-toggleable__content\"><pre>GradientBoostingClassifier(random_state=42)</pre></div></div></div></div></div></div></div></div></div></div>"
      ],
      "text/plain": [
       "GridSearchCV(cv=5, estimator=GradientBoostingClassifier(random_state=42),\n",
       "             n_jobs=-1,\n",
       "             param_grid={'learning_rate': [0.5], 'max_depth': [4],\n",
       "                         'min_samples_leaf': [6], 'min_samples_split': [4],\n",
       "                         'n_estimators': [80]},\n",
       "             scoring='accuracy')"
      ]
     },
     "execution_count": 47,
     "metadata": {},
     "output_type": "execute_result"
    }
   ],
   "source": [
    "# Create the GridSearchCV object\n",
    "grid_search_gb = GridSearchCV(estimator=gb_model, param_grid=param_grid, cv=5, scoring='accuracy', n_jobs=-1)\n",
    "# Entrenar el modelo\n",
    "grid_search_gb.fit(mlr_X_train_gb, y_train_gb)"
   ]
  },
  {
   "cell_type": "code",
   "execution_count": 48,
   "id": "8ac1c689-e9b6-4b1f-a984-29435ca5a2dd",
   "metadata": {},
   "outputs": [
    {
     "name": "stdout",
     "output_type": "stream",
     "text": [
      "Mejores hiperparámetros para Gradient Boosting: {'learning_rate': 0.5, 'max_depth': 4, 'min_samples_leaf': 6, 'min_samples_split': 4, 'n_estimators': 80}\n"
     ]
    }
   ],
   "source": [
    "# Get the best hyperparameters\n",
    "best_params_gb = grid_search_gb.best_params_\n",
    "print(\"Mejores hiperparámetros para Gradient Boosting:\", best_params_gb)"
   ]
  },
  {
   "cell_type": "code",
   "execution_count": 49,
   "id": "e1449585-ab60-4004-81d9-b01d72fc2b77",
   "metadata": {},
   "outputs": [
    {
     "name": "stdout",
     "output_type": "stream",
     "text": [
      "\n",
      "Todos los hiperparámetros internos:\n",
      "ccp_alpha: 0.0\n",
      "criterion: friedman_mse\n",
      "init: None\n",
      "learning_rate: 0.5\n",
      "loss: log_loss\n",
      "max_depth: 4\n",
      "max_features: None\n",
      "max_leaf_nodes: None\n",
      "min_impurity_decrease: 0.0\n",
      "min_samples_leaf: 6\n",
      "min_samples_split: 4\n",
      "min_weight_fraction_leaf: 0.0\n",
      "n_estimators: 80\n",
      "n_iter_no_change: None\n",
      "random_state: 42\n",
      "subsample: 1.0\n",
      "tol: 0.0001\n",
      "validation_fraction: 0.1\n",
      "verbose: 0\n",
      "warm_start: False\n"
     ]
    }
   ],
   "source": [
    "# Print all internal hyperparameters\n",
    "internal_params = grid_search_gb.best_estimator_.get_params()\n",
    "print(\"\\nTodos los hiperparámetros internos:\")\n",
    "for param_name, param_value in internal_params.items():\n",
    "    print(f\"{param_name}: {param_value}\")"
   ]
  },
  {
   "cell_type": "code",
   "execution_count": 50,
   "id": "7ce59c19-b6d8-400d-a0c1-d25b3a7656d2",
   "metadata": {},
   "outputs": [],
   "source": [
    "# KNN models"
   ]
  },
  {
   "cell_type": "code",
   "execution_count": 51,
   "id": "e8653243-3742-43ad-902d-90f3fc2f505f",
   "metadata": {},
   "outputs": [],
   "source": [
    "# Define the hyperparameter search space\n",
    "param_grid = {\n",
    "   'n_neighbors': [20],  # Range of values for n_neighbors\n",
    "    'p': [7]  # Range of values for the power parameter\n",
    "}"
   ]
  },
  {
   "cell_type": "code",
   "execution_count": 52,
   "id": "71b855fe-02f7-4bbc-befd-d2a3b8feb590",
   "metadata": {},
   "outputs": [],
   "source": [
    "# Create the KNeighborsClassifier model\n",
    "KNN_model = KNeighborsClassifier()"
   ]
  },
  {
   "cell_type": "code",
   "execution_count": 53,
   "id": "ae106a1f-8082-4559-a201-8c6002db6a24",
   "metadata": {},
   "outputs": [],
   "source": [
    "# Create the GridSearchCV object\n",
    "grid_search_KNN = GridSearchCV(KNN_model, param_grid, cv=5, scoring='accuracy')"
   ]
  },
  {
   "cell_type": "code",
   "execution_count": 54,
   "id": "25341dee-f4e0-4f5c-9f0a-2f81ed9decee",
   "metadata": {},
   "outputs": [
    {
     "data": {
      "text/html": [
       "<style>#sk-container-id-5 {color: black;}#sk-container-id-5 pre{padding: 0;}#sk-container-id-5 div.sk-toggleable {background-color: white;}#sk-container-id-5 label.sk-toggleable__label {cursor: pointer;display: block;width: 100%;margin-bottom: 0;padding: 0.3em;box-sizing: border-box;text-align: center;}#sk-container-id-5 label.sk-toggleable__label-arrow:before {content: \"▸\";float: left;margin-right: 0.25em;color: #696969;}#sk-container-id-5 label.sk-toggleable__label-arrow:hover:before {color: black;}#sk-container-id-5 div.sk-estimator:hover label.sk-toggleable__label-arrow:before {color: black;}#sk-container-id-5 div.sk-toggleable__content {max-height: 0;max-width: 0;overflow: hidden;text-align: left;background-color: #f0f8ff;}#sk-container-id-5 div.sk-toggleable__content pre {margin: 0.2em;color: black;border-radius: 0.25em;background-color: #f0f8ff;}#sk-container-id-5 input.sk-toggleable__control:checked~div.sk-toggleable__content {max-height: 200px;max-width: 100%;overflow: auto;}#sk-container-id-5 input.sk-toggleable__control:checked~label.sk-toggleable__label-arrow:before {content: \"▾\";}#sk-container-id-5 div.sk-estimator input.sk-toggleable__control:checked~label.sk-toggleable__label {background-color: #d4ebff;}#sk-container-id-5 div.sk-label input.sk-toggleable__control:checked~label.sk-toggleable__label {background-color: #d4ebff;}#sk-container-id-5 input.sk-hidden--visually {border: 0;clip: rect(1px 1px 1px 1px);clip: rect(1px, 1px, 1px, 1px);height: 1px;margin: -1px;overflow: hidden;padding: 0;position: absolute;width: 1px;}#sk-container-id-5 div.sk-estimator {font-family: monospace;background-color: #f0f8ff;border: 1px dotted black;border-radius: 0.25em;box-sizing: border-box;margin-bottom: 0.5em;}#sk-container-id-5 div.sk-estimator:hover {background-color: #d4ebff;}#sk-container-id-5 div.sk-parallel-item::after {content: \"\";width: 100%;border-bottom: 1px solid gray;flex-grow: 1;}#sk-container-id-5 div.sk-label:hover label.sk-toggleable__label {background-color: #d4ebff;}#sk-container-id-5 div.sk-serial::before {content: \"\";position: absolute;border-left: 1px solid gray;box-sizing: border-box;top: 0;bottom: 0;left: 50%;z-index: 0;}#sk-container-id-5 div.sk-serial {display: flex;flex-direction: column;align-items: center;background-color: white;padding-right: 0.2em;padding-left: 0.2em;position: relative;}#sk-container-id-5 div.sk-item {position: relative;z-index: 1;}#sk-container-id-5 div.sk-parallel {display: flex;align-items: stretch;justify-content: center;background-color: white;position: relative;}#sk-container-id-5 div.sk-item::before, #sk-container-id-5 div.sk-parallel-item::before {content: \"\";position: absolute;border-left: 1px solid gray;box-sizing: border-box;top: 0;bottom: 0;left: 50%;z-index: -1;}#sk-container-id-5 div.sk-parallel-item {display: flex;flex-direction: column;z-index: 1;position: relative;background-color: white;}#sk-container-id-5 div.sk-parallel-item:first-child::after {align-self: flex-end;width: 50%;}#sk-container-id-5 div.sk-parallel-item:last-child::after {align-self: flex-start;width: 50%;}#sk-container-id-5 div.sk-parallel-item:only-child::after {width: 0;}#sk-container-id-5 div.sk-dashed-wrapped {border: 1px dashed gray;margin: 0 0.4em 0.5em 0.4em;box-sizing: border-box;padding-bottom: 0.4em;background-color: white;}#sk-container-id-5 div.sk-label label {font-family: monospace;font-weight: bold;display: inline-block;line-height: 1.2em;}#sk-container-id-5 div.sk-label-container {text-align: center;}#sk-container-id-5 div.sk-container {/* jupyter's `normalize.less` sets `[hidden] { display: none; }` but bootstrap.min.css set `[hidden] { display: none !important; }` so we also need the `!important` here to be able to override the default hidden behavior on the sphinx rendered scikit-learn.org. See: https://github.com/scikit-learn/scikit-learn/issues/21755 */display: inline-block !important;position: relative;}#sk-container-id-5 div.sk-text-repr-fallback {display: none;}</style><div id=\"sk-container-id-5\" class=\"sk-top-container\"><div class=\"sk-text-repr-fallback\"><pre>GridSearchCV(cv=5, estimator=KNeighborsClassifier(),\n",
       "             param_grid={&#x27;n_neighbors&#x27;: [20], &#x27;p&#x27;: [7]}, scoring=&#x27;accuracy&#x27;)</pre><b>In a Jupyter environment, please rerun this cell to show the HTML representation or trust the notebook. <br />On GitHub, the HTML representation is unable to render, please try loading this page with nbviewer.org.</b></div><div class=\"sk-container\" hidden><div class=\"sk-item sk-dashed-wrapped\"><div class=\"sk-label-container\"><div class=\"sk-label sk-toggleable\"><input class=\"sk-toggleable__control sk-hidden--visually\" id=\"sk-estimator-id-13\" type=\"checkbox\" ><label for=\"sk-estimator-id-13\" class=\"sk-toggleable__label sk-toggleable__label-arrow\">GridSearchCV</label><div class=\"sk-toggleable__content\"><pre>GridSearchCV(cv=5, estimator=KNeighborsClassifier(),\n",
       "             param_grid={&#x27;n_neighbors&#x27;: [20], &#x27;p&#x27;: [7]}, scoring=&#x27;accuracy&#x27;)</pre></div></div></div><div class=\"sk-parallel\"><div class=\"sk-parallel-item\"><div class=\"sk-item\"><div class=\"sk-label-container\"><div class=\"sk-label sk-toggleable\"><input class=\"sk-toggleable__control sk-hidden--visually\" id=\"sk-estimator-id-14\" type=\"checkbox\" ><label for=\"sk-estimator-id-14\" class=\"sk-toggleable__label sk-toggleable__label-arrow\">estimator: KNeighborsClassifier</label><div class=\"sk-toggleable__content\"><pre>KNeighborsClassifier()</pre></div></div></div><div class=\"sk-serial\"><div class=\"sk-item\"><div class=\"sk-estimator sk-toggleable\"><input class=\"sk-toggleable__control sk-hidden--visually\" id=\"sk-estimator-id-15\" type=\"checkbox\" ><label for=\"sk-estimator-id-15\" class=\"sk-toggleable__label sk-toggleable__label-arrow\">KNeighborsClassifier</label><div class=\"sk-toggleable__content\"><pre>KNeighborsClassifier()</pre></div></div></div></div></div></div></div></div></div></div>"
      ],
      "text/plain": [
       "GridSearchCV(cv=5, estimator=KNeighborsClassifier(),\n",
       "             param_grid={'n_neighbors': [20], 'p': [7]}, scoring='accuracy')"
      ]
     },
     "execution_count": 54,
     "metadata": {},
     "output_type": "execute_result"
    }
   ],
   "source": [
    "# Perform hyperparameter search on the training data\n",
    "grid_search_KNN.fit(mlr_X_train_KNN, y_train_KNN)"
   ]
  },
  {
   "cell_type": "code",
   "execution_count": 55,
   "id": "62c3cb60-d8ab-4b3a-8f3b-7547d963b454",
   "metadata": {},
   "outputs": [
    {
     "name": "stdout",
     "output_type": "stream",
     "text": [
      "Best hyperparameters for KNeighborsClassifier: {'n_neighbors': 20, 'p': 7}\n"
     ]
    }
   ],
   "source": [
    "# Get the best hyperparameters\n",
    "best_params_KNN = grid_search_KNN.best_params_\n",
    "print(\"Best hyperparameters for KNeighborsClassifier:\", best_params_KNN)"
   ]
  },
  {
   "cell_type": "code",
   "execution_count": 56,
   "id": "b6df5a8a-a0c5-40c1-9d0d-a6764c341c5f",
   "metadata": {},
   "outputs": [
    {
     "name": "stdout",
     "output_type": "stream",
     "text": [
      "\n",
      "All hyperparameters for KNeighborsClassifier:\n",
      "algorithm: auto\n",
      "leaf_size: 30\n",
      "metric: minkowski\n",
      "metric_params: None\n",
      "n_jobs: None\n",
      "n_neighbors: 20\n",
      "p: 7\n",
      "weights: uniform\n"
     ]
    }
   ],
   "source": [
    "# Print all hyperparameters, including internal hyperparameters\n",
    "all_params_KNN = grid_search_KNN.best_estimator_.get_params()\n",
    "print(\"\\nAll hyperparameters for KNeighborsClassifier:\")\n",
    "for param_name, param_value in all_params_KNN.items():\n",
    "    print(f\"{param_name}: {param_value}\")"
   ]
  },
  {
   "cell_type": "code",
   "execution_count": 57,
   "id": "4c9ee5ca-cea5-4286-a4b2-58cb0fd2765d",
   "metadata": {},
   "outputs": [],
   "source": [
    "# make predictions on the train set\n",
    "y_pred_train_tree = grid_search_tree.predict(mlr_X_train_tree)\n",
    "y_pred_train_forest = grid_search_forest.predict(mlr_X_train_forest)\n",
    "y_pred_train_gb = grid_search_gb.predict(mlr_X_train_gb) \n",
    "y_pred_train_KNN = grid_search_KNN.predict(mlr_X_train_KNN) "
   ]
  },
  {
   "cell_type": "code",
   "execution_count": 67,
   "id": "b8b7e6d2-e3fd-4ed3-89fa-0238f8450a0a",
   "metadata": {},
   "outputs": [
    {
     "data": {
      "text/plain": [
       "array([0, 0, 1, ..., 0, 0, 0], dtype=int64)"
      ]
     },
     "execution_count": 67,
     "metadata": {},
     "output_type": "execute_result"
    }
   ],
   "source": [
    "y_pred_train_tree"
   ]
  },
  {
   "cell_type": "code",
   "execution_count": 68,
   "id": "22d694e9-b043-42b0-a554-4d84320da5bb",
   "metadata": {},
   "outputs": [],
   "source": [
    "# calculate confusion matrices\n",
    "cm_train_tree = confusion_matrix(y_train_tree, y_pred_train_tree)\n",
    "cm_train_forest = confusion_matrix(y_train_forest, y_pred_train_forest)\n",
    "cm_train_gb = confusion_matrix(y_train_gb, y_pred_train_gb)\n",
    "cm_train_KNN = confusion_matrix(y_train_KNN, y_pred_train_KNN)"
   ]
  },
  {
   "cell_type": "code",
   "execution_count": 69,
   "id": "0c646f8c-321c-469b-9e4b-8a3555094c6f",
   "metadata": {},
   "outputs": [],
   "source": [
    "# calculate performance metrics\n",
    "tn_train_tree, fp_train_tree, fn_train_tree, tp_train_tree = cm_train_tree.ravel()\n",
    "tn_train_forest, fp_train_forest, fn_train_forest, tp_train_forest = cm_train_forest.ravel()\n",
    "tn_train_gb, fp_train_gb, fn_train_gb, tp_train_gb = cm_train_gb.ravel()\n",
    "tn_train_KNN, fp_train_KNN, fn_train_KNN, tp_train_KNN = cm_train_KNN.ravel()"
   ]
  },
  {
   "cell_type": "code",
   "execution_count": 70,
   "id": "3aadc18c-a1d2-405f-81e1-c349b587e4d7",
   "metadata": {},
   "outputs": [],
   "source": [
    "specificity_train_tree = tn_train_tree / (tn_train_tree + fp_train_tree)\n",
    "sensitivity_train_tree = tp_train_tree / (tp_train_tree + fn_train_tree)\n",
    "accuracy_train_tree = (tp_train_tree + tn_train_tree) / (tp_train_tree + tn_train_tree + fp_train_tree + fn_train_tree)\n",
    "false_positive_train_tree = fp_train_tree / (fp_train_tree + tn_train_tree)"
   ]
  },
  {
   "cell_type": "code",
   "execution_count": 71,
   "id": "17ed6db9-d9b2-4a69-9d24-611192b1af4b",
   "metadata": {},
   "outputs": [],
   "source": [
    "specificity_train_forest = tn_train_forest / (tn_train_forest + fp_train_forest)\n",
    "sensitivity_train_forest = tp_train_forest / (tp_train_forest + fn_train_forest)\n",
    "accuracy_train_forest = (tp_train_forest + tn_train_forest) / (tp_train_forest + tn_train_forest + fp_train_forest + fn_train_forest)\n",
    "false_positive_train_forest = fp_train_forest / (fp_train_forest + tn_train_forest)"
   ]
  },
  {
   "cell_type": "code",
   "execution_count": 72,
   "id": "85a707d1-fc0a-49d7-bb0a-f57380727d25",
   "metadata": {},
   "outputs": [],
   "source": [
    "specificity_train_gb = tn_train_gb / (tn_train_gb + fp_train_gb)\n",
    "sensitivity_train_gb = tp_train_gb / (tp_train_gb + fn_train_gb)\n",
    "accuracy_train_gb = (tp_train_gb + tn_train_gb) / (tp_train_gb + tn_train_gb + fp_train_gb + fn_train_gb)\n",
    "false_positive_train_gb = fp_train_gb / (fp_train_gb + tn_train_gb)"
   ]
  },
  {
   "cell_type": "code",
   "execution_count": 73,
   "id": "96c2b51c-95b1-4c38-a991-f6c1a019ab2d",
   "metadata": {},
   "outputs": [],
   "source": [
    "specificity_train_KNN = tn_train_KNN / (tn_train_KNN + fp_train_KNN)\n",
    "sensitivity_train_KNN = tp_train_KNN / (tp_train_KNN + fn_train_KNN)\n",
    "accuracy_train_KNN = (tp_train_KNN + tn_train_KNN) / (tp_train_KNN + tn_train_KNN + fp_train_KNN + fn_train_KNN)\n",
    "false_positive_train_KNN = fp_train_KNN / (fp_train_KNN + tn_train_KNN)"
   ]
  },
  {
   "cell_type": "code",
   "execution_count": 74,
   "id": "f80165b8-23d7-45c2-bc74-11dfa8e3d756",
   "metadata": {},
   "outputs": [],
   "source": [
    "mcc_train_tree = matthews_corrcoef(y_train_tree, y_pred_train_tree)\n",
    "mcc_train_forest = matthews_corrcoef(y_train_forest, y_pred_train_forest)\n",
    "mcc_train_gb = matthews_corrcoef(y_train_gb, y_pred_train_gb)\n",
    "mcc_train_KNN = matthews_corrcoef(y_train_KNN, y_pred_train_KNN)"
   ]
  },
  {
   "cell_type": "code",
   "execution_count": 75,
   "id": "5d6b688b-f360-4387-b364-18f102f131fe",
   "metadata": {},
   "outputs": [],
   "source": [
    "# make predictions on the test set\n",
    "y_pred_test_tree = grid_search_tree.predict(mlr_X_test_tree)\n",
    "y_pred_test_forest = grid_search_forest.predict(mlr_X_test_forest)\n",
    "y_pred_test_gb = grid_search_gb.predict(mlr_X_test_gb) \n",
    "y_pred_test_KNN = grid_search_KNN.predict(mlr_X_test_KNN) "
   ]
  },
  {
   "cell_type": "code",
   "execution_count": 76,
   "id": "3720e0dd-81f1-4441-abc0-ff18f00491ef",
   "metadata": {},
   "outputs": [],
   "source": [
    "cm_pred_test_tree = confusion_matrix(y_test_tree, y_pred_test_tree)\n",
    "cm_pred_test_forest = confusion_matrix(y_test_forest, y_pred_test_forest)\n",
    "cm_pred_test_gb = confusion_matrix(y_test_gb, y_pred_test_gb)\n",
    "cm_pred_test_KNN = confusion_matrix(y_test_KNN, y_pred_test_KNN)"
   ]
  },
  {
   "cell_type": "code",
   "execution_count": 77,
   "id": "910cb8a3-0e2e-4eee-944c-408371faec80",
   "metadata": {},
   "outputs": [],
   "source": [
    "# calculate performance metrics on test set\n",
    "tn_test_tree, fp_test_tree, fn_test_tree, tp_test_tree = cm_pred_test_tree.ravel()\n",
    "tn_test_forest, fp_test_forest, fn_test_forest, tp_test_forest = cm_pred_test_forest.ravel()\n",
    "tn_test_gb, fp_test_gb, fn_test_gb, tp_test_gb = cm_pred_test_gb.ravel()\n",
    "tn_test_KNN, fp_test_KNN, fn_test_KNN, tp_test_KNN = cm_pred_test_KNN.ravel()"
   ]
  },
  {
   "cell_type": "code",
   "execution_count": 78,
   "id": "adc1e30d-b2b7-4093-9acf-5707ceb9d394",
   "metadata": {},
   "outputs": [],
   "source": [
    "specificity_test_tree = tn_test_tree / (tn_test_tree + fp_test_tree)\n",
    "sensitivity_test_tree = tp_test_tree / (tp_test_tree + fn_test_tree)\n",
    "accuracy_test_tree = (tp_test_tree + tn_test_tree) / (tp_test_tree + tn_test_tree + fp_test_tree + fn_test_tree)\n",
    "false_positive_test_tree = fp_test_tree / (fp_test_tree + tn_test_tree)"
   ]
  },
  {
   "cell_type": "code",
   "execution_count": 79,
   "id": "9deb9fda-8833-4ea7-b3e1-e19ef2409446",
   "metadata": {},
   "outputs": [],
   "source": [
    "specificity_test_forest = tn_test_forest / (tn_test_forest + fp_test_forest)\n",
    "sensitivity_test_forest = tp_test_forest / (tp_test_forest + fn_test_forest)\n",
    "accuracy_test_forest = (tp_test_forest + tn_test_forest) / (tp_test_forest + tn_test_forest + fp_test_forest + fn_test_forest)\n",
    "false_positive_test_forest = fp_test_forest / (fp_test_forest + tn_test_forest)"
   ]
  },
  {
   "cell_type": "code",
   "execution_count": 56,
   "id": "fd4db56f-8a84-4a75-baf2-b200acc1bf7b",
   "metadata": {},
   "outputs": [],
   "source": [
    "specificity_test_gb = tn_test_gb / (tn_test_gb + fp_test_gb)\n",
    "sensitivity_test_gb = tp_test_gb / (tp_test_gb + fn_test_gb)\n",
    "accuracy_test_gb = (tp_test_gb + tn_test_gb) / (tp_test_gb + tn_test_gb + fp_test_gb + fn_test_gb)\n",
    "false_positive_test_gb = fp_test_gb / (fp_test_gb + tn_test_gb)"
   ]
  },
  {
   "cell_type": "code",
   "execution_count": 57,
   "id": "65d8a7fb-8cb4-454d-9843-705619d46dd2",
   "metadata": {},
   "outputs": [],
   "source": [
    "specificity_test_KNN = tn_test_KNN / (tn_test_KNN + fp_test_KNN)\n",
    "sensitivity_test_KNN = tp_test_KNN / (tp_test_KNN + fn_test_KNN)\n",
    "accuracy_test_KNN = (tp_test_KNN + tn_test_KNN) / (tp_test_KNN + tn_test_KNN + fp_test_KNN + fn_test_KNN)\n",
    "false_positive_test_KNN = fp_test_KNN / (fp_test_KNN + tn_test_KNN)"
   ]
  },
  {
   "cell_type": "code",
   "execution_count": 58,
   "id": "96c05e31-8826-4186-9697-4858984fa92a",
   "metadata": {},
   "outputs": [],
   "source": [
    "mcc_test_tree = matthews_corrcoef(y_test_tree, y_pred_test_tree)\n",
    "mcc_test_forest = matthews_corrcoef(y_test_forest, y_pred_test_forest)\n",
    "mcc_test_gb = matthews_corrcoef(y_test_gb, y_pred_test_gb)\n",
    "mcc_test_KNN = matthews_corrcoef(y_test_KNN, y_pred_test_KNN)"
   ]
  },
  {
   "cell_type": "code",
   "execution_count": 59,
   "id": "8932d3e6-1280-4720-8acd-bd9c25791884",
   "metadata": {},
   "outputs": [],
   "source": [
    "# create a bar plot of the performance metrics for each classifier for the training and test sets\n",
    "labels = ['Accuracy', 'Specificity', 'Sensitivity','1-False\\nPositive\\nRate','MCC']\n",
    "tree_train_values = [accuracy_train_tree,specificity_train_tree,sensitivity_train_tree,1-false_positive_train_tree,mcc_train_tree]\n",
    "forest_train_values = [accuracy_train_forest, specificity_train_forest, sensitivity_train_forest, 1-false_positive_train_forest, mcc_train_forest]\n",
    "gb_train_values = [accuracy_train_gb, specificity_train_gb,sensitivity_train_gb, 1-false_positive_train_gb,mcc_train_gb]\n",
    "KNN_train_values = [accuracy_train_KNN, specificity_train_KNN,sensitivity_train_KNN, 1-false_positive_train_KNN,mcc_train_KNN]"
   ]
  },
  {
   "cell_type": "code",
   "execution_count": 60,
   "id": "1f223c1e-8bfa-4df9-aa15-94629394c0e4",
   "metadata": {},
   "outputs": [],
   "source": [
    "labels = ['Accuracy', 'Specificity', 'Sensitivity','1-False\\nPositive\\nRate','MCC']\n",
    "tree_test_values = [accuracy_test_tree,specificity_test_tree,sensitivity_test_tree,1-false_positive_test_tree,mcc_test_tree]\n",
    "forest_test_values = [accuracy_test_forest, specificity_test_forest, sensitivity_test_forest, 1-false_positive_test_forest, mcc_test_forest]\n",
    "gb_test_values = [accuracy_test_gb, specificity_test_gb,sensitivity_test_gb, 1-false_positive_test_gb,mcc_test_gb]\n",
    "KNN_test_values = [accuracy_test_KNN, specificity_test_KNN,sensitivity_test_KNN, 1-false_positive_test_KNN,mcc_test_KNN]"
   ]
  },
  {
   "cell_type": "code",
   "execution_count": 61,
   "id": "a570480d-dae3-459a-9005-439130ac8262",
   "metadata": {},
   "outputs": [
    {
     "data": {
      "image/png": "[encoded data removed]",
      "text/plain": [
       "<Figure size 1500x800 with 2 Axes>"
      ]
     },
     "metadata": {},
     "output_type": "display_data"
    }
   ],
   "source": [
    "import numpy as np\n",
    "import matplotlib.pyplot as plt\n",
    "\n",
    "x = np.arange(len(labels))  \n",
    "width = 0.2  \n",
    "\n",
    "fig, (ax1, ax2) = plt.subplots(1, 2, figsize=(15, 8))\n",
    "\n",
    "# Colors for the training set\n",
    "colors_train = ['#1476AB', '#0BAD32', '#F0A818', '#CC1013']\n",
    "\n",
    "\n",
    "# plot the performance metrics for the training set\n",
    "rects1 = ax1.bar(x, tree_train_values, width, label='Decision Tree', color=colors_train[0], alpha=0.7)\n",
    "rects2 = ax1.bar(x + width, forest_train_values, width, label='Random Forest', color=colors_train[1], alpha=0.7)\n",
    "rects3 = ax1.bar(x - width, gb_train_values, width, label='Gradient_Bossting', color=colors_train[2], alpha=0.7)\n",
    "rects4 = ax1.bar(x + 2*width, KNN_train_values, width, label='KNeighbors', color=colors_train[3], alpha=0.7)\n",
    "\n",
    "ax1.set_ylabel('Training Value', fontsize=18)  \n",
    "ax1.set_xticks(x + width / 2)\n",
    "ax1.set_xticklabels(labels, fontsize=12)  \n",
    "ax1.tick_params(axis='y', labelsize=12)  \n",
    "ax1.set_yticks(np.arange(0, max(max(tree_train_values), max(forest_train_values), max(gb_train_values), max(KNN_train_values)) + 0.1, 0.1))\n",
    "\n",
    "# Colors for the test set\n",
    "colors_test = ['#1476AB', '#0BAD32', '#F0A818', '#CC1013']\n",
    "\n",
    "# plot the performance metrics for the test set\n",
    "rects1 = ax2.bar(x, tree_test_values, width, label='Decision Tree', color=colors_test[0], alpha=0.7)\n",
    "rects2 = ax2.bar(x + width, forest_test_values, width, label='Random Forest', color=colors_test[1], alpha=0.7)\n",
    "rects3 = ax2.bar(x - width, gb_test_values, width, label='Gradient_Bossting', color=colors_test[2], alpha=0.7)\n",
    "rects4 = ax2.bar(x + 2*width, KNN_test_values, width, label='KNeighbors', color=colors_test[3], alpha=0.7)\n",
    "\n",
    "ax2.set_ylabel('Validation Value', fontsize=18)  \n",
    "ax2.set_xticks(x + width / 2)\n",
    "ax2.set_xticklabels(labels, fontsize=12) \n",
    "ax2.tick_params(axis='y', labelsize=12)  \n",
    "\n",
    "# Add legend outside the chart with custom order\n",
    "plt.legend(handles=[rects3, rects1, rects2, rects4], labels=['GB', 'DT', 'RF', 'K_NN'],\n",
    "            loc='upper center', bbox_to_anchor=(0.5, -0.15), ncol=4, fontsize=14)\n",
    "\n",
    "plt.savefig('Metric_plot_2.png', transparent=True)\n",
    "plt.show()"
   ]
  },
  {
   "cell_type": "code",
   "execution_count": 62,
   "id": "2354d9a0-07e4-4cb5-8637-e1b23815f1f1",
   "metadata": {},
   "outputs": [],
   "source": [
    "#ROC training"
   ]
  },
  {
   "cell_type": "code",
   "execution_count": 63,
   "id": "f56fa71e-a96b-4f95-a84a-64255a23043f",
   "metadata": {},
   "outputs": [],
   "source": [
    "from sklearn.metrics import roc_curve, auc"
   ]
  },
  {
   "cell_type": "code",
   "execution_count": 64,
   "id": "44a16e6d-e880-491f-9560-2a5b3e9e3d38",
   "metadata": {},
   "outputs": [],
   "source": [
    "# Predict probabilities for training set\n",
    "probas_train_tree = grid_search_tree.predict_proba(mlr_X_train_tree)[:, 1]\n",
    "probas_train_forest = grid_search_forest.predict_proba(mlr_X_train_forest)[:, 1]\n",
    "probas_train_gb = grid_search_gb.predict_proba(mlr_X_train_gb)[:, 1]\n",
    "probas_train_KNN = grid_search_KNN.predict_proba(mlr_X_train_KNN)[:, 1]"
   ]
  },
  {
   "cell_type": "code",
   "execution_count": 65,
   "id": "79d6bcee-0b1d-43d1-b5c0-6074aedc58d1",
   "metadata": {},
   "outputs": [],
   "source": [
    "# Compute ROC curve and AUC for decision tree model\n",
    "fpr_train_tree, tpr_train_tree, thresholds_train_tree = roc_curve(y_train_tree, probas_train_tree )\n",
    "roc_auc_train_tree = auc(fpr_train_tree, tpr_train_tree)"
   ]
  },
  {
   "cell_type": "code",
   "execution_count": 66,
   "id": "e04db6cf-29a4-4916-bb3f-a73fb5043c6e",
   "metadata": {},
   "outputs": [],
   "source": [
    "# Compute ROC curve and AUC for ramdom forest\n",
    "fpr_train_forest, tpr_train_forest, thresholds_train_forest = roc_curve(y_train_forest, probas_train_forest )\n",
    "roc_auc_train_forest = auc(fpr_train_forest, tpr_train_forest)"
   ]
  },
  {
   "cell_type": "code",
   "execution_count": 67,
   "id": "d56cf741-dd49-47b8-818f-5f910375449b",
   "metadata": {},
   "outputs": [],
   "source": [
    "# Compute ROC curve and AUC for Gradient Boosting\n",
    "fpr_train_gb, tpr_train_gb, thresholds_train_gb= roc_curve(y_train_gb, probas_train_gb)\n",
    "roc_auc_train_gb = auc(fpr_train_gb, tpr_train_gb)"
   ]
  },
  {
   "cell_type": "code",
   "execution_count": 68,
   "id": "f27b54e1-a2b2-424b-ae41-8145da256e9f",
   "metadata": {},
   "outputs": [],
   "source": [
    "# Compute ROC curve and AUC for Gradient Boosting\n",
    "fpr_train_KNN, tpr_train_KNN, thresholds_train_KNN= roc_curve(y_train_KNN, probas_train_KNN)\n",
    "roc_auc_train_KNN = auc(fpr_train_KNN, tpr_train_KNN)"
   ]
  },
  {
   "cell_type": "code",
   "execution_count": 69,
   "id": "a60b5414-f831-4eb0-9ca0-0b9a1093f04a",
   "metadata": {},
   "outputs": [
    {
     "data": {
      "image/png": "[encoded data removed]",
      "text/plain": [
       "<Figure size 640x480 with 1 Axes>"
      ]
     },
     "metadata": {},
     "output_type": "display_data"
    }
   ],
   "source": [
    "# Plot ROC curves\n",
    "plt.plot(fpr_train_gb, tpr_train_gb, color='#F0A818', lw=2,label='GB ROC curve (area = %0.2f)' % roc_auc_train_gb)\n",
    "plt.plot(fpr_train_tree, tpr_train_tree, color='#1476AB', lw=2, label='DT ROC curve (area = %0.2f)' % roc_auc_train_tree)\n",
    "plt.plot(fpr_train_forest, tpr_train_forest, color='#0BAD32', lw=2, label='RF ROC curve (area = %0.2f)' % roc_auc_train_forest)\n",
    "plt.plot(fpr_train_KNN, tpr_train_KNN, color='#CC1013', lw=2, label='K_NN ROC curve (area = %0.2f)' % roc_auc_train_KNN)  # Added KNeighbors ROC\n",
    "plt.plot([0, 1], [0, 1], color='#170D03', lw=2, linestyle='--')\n",
    "\n",
    "\n",
    "# Modify letters size of X and Y axes\n",
    "plt.xlabel('False Positive Rate', fontsize=16)\n",
    "plt.ylabel('True Positive Rate', fontsize=16)\n",
    "\n",
    "# Modify number size on X and Y axes\n",
    "plt.xticks(fontsize=12)\n",
    "plt.yticks(fontsize=12)\n",
    "\n",
    "plt.xlim([0.0, 1.0])\n",
    "plt.ylim([0.0, 1.05])\n",
    "#plt.title('Receiver Operating Characteristic (ROC) - Training Set', fontsize=14)\n",
    "plt.legend(loc=\"lower right\", fontsize=9)\n",
    "\n",
    "# Save image with transparent background and resolution of 600 dpi\n",
    "plt.savefig('roc_curve_train.png', dpi=600, transparent=True)\n",
    "plt.show()"
   ]
  },
  {
   "cell_type": "code",
   "execution_count": 70,
   "id": "a69e7d9d-b260-41e7-8759-4f300dc9da81",
   "metadata": {},
   "outputs": [],
   "source": [
    "# Curva ROC prediction "
   ]
  },
  {
   "cell_type": "code",
   "execution_count": 71,
   "id": "b1b6612a-1350-47ef-ae1c-fc8faa5574a9",
   "metadata": {},
   "outputs": [],
   "source": [
    "probas_test_tree = grid_search_tree.predict_proba(mlr_X_test_tree)[:, 1]\n",
    "probas_test_forest = grid_search_forest.predict_proba(mlr_X_test_forest)[:, 1]\n",
    "probas_test_gb = grid_search_gb.predict_proba(mlr_X_test_gb)[:, 1]\n",
    "probas_test_KNN = grid_search_KNN.predict_proba(mlr_X_test_KNN)[:, 1]"
   ]
  },
  {
   "cell_type": "code",
   "execution_count": 72,
   "id": "23576c33-97ef-45f8-b7e1-8e35f41057af",
   "metadata": {},
   "outputs": [],
   "source": [
    "# Compute ROC curve and AUC for decision tree model\n",
    "fpr_test_tree, tpr_test_tree, thresholds_test_tree = roc_curve(y_test_tree, probas_test_tree)\n",
    "roc_auc_test_tree = auc(fpr_test_tree, tpr_test_tree)"
   ]
  },
  {
   "cell_type": "code",
   "execution_count": 73,
   "id": "d3ed7c3a-1c24-486c-bd6f-e3c9c8cbf5fd",
   "metadata": {},
   "outputs": [],
   "source": [
    "# Compute ROC curve and AUC for ramdom forest\n",
    "fpr_test_forest, tpr_test_forest, thresholds_test_forest = roc_curve(y_test_forest, probas_test_forest )\n",
    "roc_auc_test_forest = auc(fpr_test_forest, tpr_test_forest)"
   ]
  },
  {
   "cell_type": "code",
   "execution_count": 74,
   "id": "45dc12af-1006-4879-b0f0-804d439c009d",
   "metadata": {},
   "outputs": [],
   "source": [
    "# Compute ROC curve and AUC for Gradient Boosting\n",
    "fpr_test_gb, tpr_test_gb, thresholds_test_gb= roc_curve(y_test_gb, probas_test_gb)\n",
    "roc_auc_test_gb = auc(fpr_test_gb, tpr_test_gb)"
   ]
  },
  {
   "cell_type": "code",
   "execution_count": 75,
   "id": "a1e9c0bd-1177-4300-bb68-47f94be60516",
   "metadata": {},
   "outputs": [],
   "source": [
    "# Compute ROC curve and AUC for Gradient Boosting\n",
    "fpr_test_KNN, tpr_test_KNN, thresholds_test_KNN= roc_curve(y_test_KNN, probas_test_KNN)\n",
    "roc_auc_test_KNN = auc(fpr_test_KNN, tpr_test_KNN)"
   ]
  },
  {
   "cell_type": "code",
   "execution_count": 76,
   "id": "4521c903-1fae-4b3c-a376-8e0e204ec748",
   "metadata": {},
   "outputs": [
    {
     "data": {
      "image/png": "[encoded data removed]",
      "text/plain": [
       "<Figure size 640x480 with 1 Axes>"
      ]
     },
     "metadata": {},
     "output_type": "display_data"
    }
   ],
   "source": [
    "# Plot ROC curves\n",
    "plt.plot(fpr_test_gb, tpr_test_gb, color='#F0A818', lw=2,label='GB ROC curve (area = %0.2f)' % roc_auc_test_gb)\n",
    "plt.plot(fpr_test_tree, tpr_test_tree, color='#1476AB', lw=2, label='DT ROC curve (area = %0.2f)' % roc_auc_test_tree)\n",
    "plt.plot(fpr_test_forest, tpr_test_forest, color='#0BAD32', lw=2, label='RF ROC curve (area = %0.2f)' % roc_auc_test_forest)\n",
    "plt.plot(fpr_test_KNN, tpr_test_KNN, color='#CC1013', lw=2, label='K_NN ROC curve (area = %0.2f)' % roc_auc_test_KNN)  \n",
    "plt.plot([0, 1], [0, 1], color='#170D03', lw=2, linestyle='--')\n",
    "\n",
    "# Modify letters size of X and Y axes\n",
    "plt.xlabel('False Positive Rate', fontsize=16)\n",
    "plt.ylabel('True Positive Rate', fontsize=16)\n",
    "\n",
    "# Modify number size on X and Y axes\n",
    "plt.xticks(fontsize=12)\n",
    "plt.yticks(fontsize=12)\n",
    "\n",
    "plt.xlim([0.0, 1.0])\n",
    "plt.ylim([0.0, 1.05])\n",
    "#plt.title('Receiver Operating Characteristic (ROC) - Training Set', fontsize=14)\n",
    "plt.legend(loc=\"lower right\", fontsize=9)\n",
    "\n",
    "# Save image with transparent background and resolution of 600 dpi\n",
    "plt.savefig('roc_curve_pred.png', dpi=600, transparent=True)\n",
    "plt.show()"
   ]
  },
  {
   "cell_type": "code",
   "execution_count": 77,
   "id": "08f6ba37-10c7-48c2-a844-a3fda25c136d",
   "metadata": {},
   "outputs": [],
   "source": [
    "mcc_train_gb = matthews_corrcoef(y_train_gb, y_pred_train_gb)"
   ]
  },
  {
   "cell_type": "code",
   "execution_count": 78,
   "id": "f2989d46-81b1-45e7-ba65-1f02dbe7ed26",
   "metadata": {},
   "outputs": [
    {
     "data": {
      "text/plain": [
       "0.8644213970134573"
      ]
     },
     "execution_count": 78,
     "metadata": {},
     "output_type": "execute_result"
    }
   ],
   "source": [
    "mcc_train_gb"
   ]
  },
  {
   "cell_type": "code",
   "execution_count": 79,
   "id": "4a5fb9aa-aa01-4492-b929-ddef6ac2e91f",
   "metadata": {},
   "outputs": [],
   "source": [
    "cm_train_gb = confusion_matrix(y_train_gb, y_pred_train_gb)"
   ]
  },
  {
   "cell_type": "code",
   "execution_count": 80,
   "id": "b9e8ac04-c54a-4c44-800a-828663035275",
   "metadata": {},
   "outputs": [
    {
     "data": {
      "text/plain": [
       "array([[4694,   63],\n",
       "       [  96,  587]], dtype=int64)"
      ]
     },
     "execution_count": 80,
     "metadata": {},
     "output_type": "execute_result"
    }
   ],
   "source": [
    "cm_train_gb"
   ]
  },
  {
   "cell_type": "code",
   "execution_count": null,
   "id": "705b0e4f-e714-4008-90dd-dd053997848e",
   "metadata": {},
   "outputs": [],
   "source": []
  }
 ],
 "metadata": {
  "kernelspec": {
   "display_name": "Python 3 (ipykernel)",
   "language": "python",
   "name": "python3"
  },
  "language_info": {
   "codemirror_mode": {
    "name": "ipython",
    "version": 3
   },
   "file_extension": ".py",
   "mimetype": "text/x-python",
   "name": "python",
   "nbconvert_exporter": "python",
   "pygments_lexer": "ipython3",
   "version": "3.10.9"
  }
 },
 "nbformat": 4,
 "nbformat_minor": 5
}

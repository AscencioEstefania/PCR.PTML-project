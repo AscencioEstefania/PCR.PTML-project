{
 "cells": [
  {
   "cell_type": "code",
   "execution_count": 232,
   "id": "4633fe94-ba94-44c9-a0b4-d3512d398b49",
   "metadata": {},
   "outputs": [],
   "source": [
    "#Importing Libraries:\n",
    "import pandas as pd\n",
    "import numpy as np\n",
    "import matplotlib.pyplot as plt\n",
    "from sklearn.tree import DecisionTreeClassifier\n",
    "from sklearn.ensemble import RandomForestClassifier\n",
    "from sklearn.ensemble import GradientBoostingClassifier\n",
    "from sklearn.datasets import make_classification\n",
    "from sklearn.model_selection import GridSearchCV\n",
    "from scipy.stats import randint\n",
    "from sklearn.metrics import confusion_matrix, matthews_corrcoef\n",
    "#from sklearn.metrics import confusion_matrix, matthews_corrcoef\n",
    "#from sklearn.neighbors import KNeighborsClassifier\n",
    "#from sklearn.discriminant_analysis import LinearDiscriminantAnalysis\n",
    "#from sklearn.model_selection import train_test_split"
   ]
  },
  {
   "cell_type": "code",
   "execution_count": 233,
   "id": "ac046859-3a9f-4a1f-8a82-7bf551c39e3f",
   "metadata": {},
   "outputs": [
    {
     "name": "stdout",
     "output_type": "stream",
     "text": [
      " Volume in drive C is Windows-SSD\n",
      " Volume Serial Number is 04D2-DEF4\n",
      "\n",
      " Directory of C:\\Users\\estef\\Dropbox\\mis_modelos\\LDA\n",
      "\n",
      "31/01/2024  23:12    <DIR>          .\n",
      "18/01/2024  15:25    <DIR>          ..\n",
      "31/01/2024  22:49    <DIR>          .ipynb_checkpoints\n",
      "07/09/2023  15:54           127,104 1_9_05_2023.ipynb\n",
      "10/01/2024  20:32           347,248 1_Ultimo_LDA_DNA - copia.ipynb\n",
      "26/01/2024  11:21           316,579 17_01_2023_Modelos_lLDA.ipynb\n",
      "31/01/2024  17:10           244,705 18_01_24_version_definitiva.ipynb\n",
      "10/01/2024  20:44           210,910 25_1_sep.ipynb\n",
      "10/01/2024  20:43            95,447 25_sep_LDA.ipynb\n",
      "05/09/2023  23:42            53,291 3_Modelo_KNN_Optimizado.ipynb\n",
      "04/09/2023  19:01             5,861 Array.ipynb\n",
      "07/09/2023  15:56            22,434 Clasification.ipynb\n",
      "17/01/2024  16:32           109,685 Confusion_matrix.png\n",
      "31/01/2024  15:13            60,034 Confusion_matrix_Forest.png\n",
      "25/09/2023  18:50           512,527 data_DNA.csv\n",
      "02/09/2023  18:31         7,699,276 Data_LDA.csv\n",
      "02/09/2023  17:52         1,832,168 Data_LDA.xlsb\n",
      "17/01/2024  16:32           109,685 grafica_training and validation.png\n",
      "10/01/2024  20:29            14,752 Lazzy_LDA.ipynb\n",
      "04/09/2023  23:21           126,641 Lineal_Discriminant.ipynb\n",
      "31/01/2024  14:56             4,981 para probar que errores tengo .ipynb\n",
      "17/01/2024  22:54            27,484 Ramdom_Forest.ipynb\n",
      "17/01/2024  19:00           347,338 roc_curve_test.png\n",
      "31/01/2024  15:13           320,395 roc_curve_train.png\n",
      "31/01/2024  23:12           360,314 Ultimo_LDA_DNA.ipynb\n",
      "26/01/2024  11:11             3,707 Untitled.ipynb\n",
      "31/01/2024  22:49             4,981 Untitled1.ipynb\n",
      "31/01/2024  22:55             2,642 Untitled2.ipynb\n",
      "10/01/2024  20:29               617 Untitled4.ipynb\n",
      "17/01/2024  17:43           245,707 version final_27_09_23_sin optimizar.ipynb\n",
      "              27 File(s)     13,206,513 bytes\n",
      "               3 Dir(s)  304,303,648,768 bytes free\n"
     ]
    }
   ],
   "source": [
    "ls"
   ]
  },
  {
   "cell_type": "code",
   "execution_count": 235,
   "id": "b611e400-c9ea-4f44-80b8-be24ab7f8971",
   "metadata": {},
   "outputs": [
    {
     "data": {
      "text/html": [
       "<div>\n",
       "<style scoped>\n",
       "    .dataframe tbody tr th:only-of-type {\n",
       "        vertical-align: middle;\n",
       "    }\n",
       "\n",
       "    .dataframe tbody tr th {\n",
       "        vertical-align: top;\n",
       "    }\n",
       "\n",
       "    .dataframe thead th {\n",
       "        text-align: right;\n",
       "    }\n",
       "</style>\n",
       "<table border=\"1\" class=\"dataframe\">\n",
       "  <thead>\n",
       "    <tr style=\"text-align: right;\">\n",
       "      <th></th>\n",
       "      <th>n-pair</th>\n",
       "      <th>q-seq</th>\n",
       "      <th>r-seq</th>\n",
       "      <th>eq(obs)</th>\n",
       "      <th>eqpred</th>\n",
       "      <th>p(eq=1)</th>\n",
       "      <th>prediction_trainig</th>\n",
       "      <th>eref</th>\n",
       "      <th>Dq0_Seq</th>\n",
       "      <th>Dq1_Seq</th>\n",
       "      <th>Dq2_Seq</th>\n",
       "    </tr>\n",
       "  </thead>\n",
       "  <tbody>\n",
       "    <tr>\n",
       "      <th>0</th>\n",
       "      <td>1</td>\n",
       "      <td>RL2F_267</td>\n",
       "      <td>Control_1043</td>\n",
       "      <td>1</td>\n",
       "      <td>1</td>\n",
       "      <td>0.736</td>\n",
       "      <td>training</td>\n",
       "      <td>-0.419</td>\n",
       "      <td>-2.211</td>\n",
       "      <td>-2.154</td>\n",
       "      <td>-2.144</td>\n",
       "    </tr>\n",
       "    <tr>\n",
       "      <th>1</th>\n",
       "      <td>18</td>\n",
       "      <td>RL2F_267</td>\n",
       "      <td>RL2F_479</td>\n",
       "      <td>1</td>\n",
       "      <td>1</td>\n",
       "      <td>0.735</td>\n",
       "      <td>training</td>\n",
       "      <td>2.384</td>\n",
       "      <td>-2.211</td>\n",
       "      <td>-2.154</td>\n",
       "      <td>-2.144</td>\n",
       "    </tr>\n",
       "    <tr>\n",
       "      <th>2</th>\n",
       "      <td>27</td>\n",
       "      <td>RL2F_693</td>\n",
       "      <td>Control_0650</td>\n",
       "      <td>1</td>\n",
       "      <td>1</td>\n",
       "      <td>0.964</td>\n",
       "      <td>training</td>\n",
       "      <td>-0.419</td>\n",
       "      <td>-2.461</td>\n",
       "      <td>-2.425</td>\n",
       "      <td>-2.420</td>\n",
       "    </tr>\n",
       "    <tr>\n",
       "      <th>3</th>\n",
       "      <td>47</td>\n",
       "      <td>RL2F_693</td>\n",
       "      <td>RL2F_458</td>\n",
       "      <td>1</td>\n",
       "      <td>1</td>\n",
       "      <td>0.964</td>\n",
       "      <td>training</td>\n",
       "      <td>2.384</td>\n",
       "      <td>-2.461</td>\n",
       "      <td>-2.425</td>\n",
       "      <td>-2.420</td>\n",
       "    </tr>\n",
       "    <tr>\n",
       "      <th>4</th>\n",
       "      <td>51</td>\n",
       "      <td>RL2F_559</td>\n",
       "      <td>RL1F_021</td>\n",
       "      <td>1</td>\n",
       "      <td>0</td>\n",
       "      <td>0.187</td>\n",
       "      <td>prediction</td>\n",
       "      <td>2.384</td>\n",
       "      <td>-1.744</td>\n",
       "      <td>-1.734</td>\n",
       "      <td>-1.731</td>\n",
       "    </tr>\n",
       "    <tr>\n",
       "      <th>5</th>\n",
       "      <td>54</td>\n",
       "      <td>RL2F_559</td>\n",
       "      <td>Control_0228</td>\n",
       "      <td>1</td>\n",
       "      <td>0</td>\n",
       "      <td>0.187</td>\n",
       "      <td>training</td>\n",
       "      <td>-0.419</td>\n",
       "      <td>-1.744</td>\n",
       "      <td>-1.734</td>\n",
       "      <td>-1.731</td>\n",
       "    </tr>\n",
       "    <tr>\n",
       "      <th>6</th>\n",
       "      <td>75</td>\n",
       "      <td>RL2F_268</td>\n",
       "      <td>Control_0873</td>\n",
       "      <td>1</td>\n",
       "      <td>0</td>\n",
       "      <td>0.039</td>\n",
       "      <td>training</td>\n",
       "      <td>-0.419</td>\n",
       "      <td>-1.134</td>\n",
       "      <td>-1.137</td>\n",
       "      <td>-1.138</td>\n",
       "    </tr>\n",
       "    <tr>\n",
       "      <th>7</th>\n",
       "      <td>81</td>\n",
       "      <td>RL2F_268</td>\n",
       "      <td>RL2F_267</td>\n",
       "      <td>1</td>\n",
       "      <td>0</td>\n",
       "      <td>0.039</td>\n",
       "      <td>training</td>\n",
       "      <td>2.384</td>\n",
       "      <td>-1.134</td>\n",
       "      <td>-1.137</td>\n",
       "      <td>-1.138</td>\n",
       "    </tr>\n",
       "    <tr>\n",
       "      <th>8</th>\n",
       "      <td>99</td>\n",
       "      <td>RL2F_296</td>\n",
       "      <td>RL2F_304</td>\n",
       "      <td>1</td>\n",
       "      <td>0</td>\n",
       "      <td>0.113</td>\n",
       "      <td>training</td>\n",
       "      <td>2.384</td>\n",
       "      <td>-1.612</td>\n",
       "      <td>-1.609</td>\n",
       "      <td>-1.607</td>\n",
       "    </tr>\n",
       "    <tr>\n",
       "      <th>9</th>\n",
       "      <td>109</td>\n",
       "      <td>RL2F_296</td>\n",
       "      <td>Control_0225</td>\n",
       "      <td>1</td>\n",
       "      <td>0</td>\n",
       "      <td>0.113</td>\n",
       "      <td>prediction</td>\n",
       "      <td>-0.419</td>\n",
       "      <td>-1.612</td>\n",
       "      <td>-1.609</td>\n",
       "      <td>-1.607</td>\n",
       "    </tr>\n",
       "    <tr>\n",
       "      <th>10</th>\n",
       "      <td>134</td>\n",
       "      <td>RL2F_300</td>\n",
       "      <td>RL1F_050</td>\n",
       "      <td>1</td>\n",
       "      <td>0</td>\n",
       "      <td>0.057</td>\n",
       "      <td>training</td>\n",
       "      <td>2.384</td>\n",
       "      <td>-1.713</td>\n",
       "      <td>-1.709</td>\n",
       "      <td>-1.708</td>\n",
       "    </tr>\n",
       "    <tr>\n",
       "      <th>11</th>\n",
       "      <td>139</td>\n",
       "      <td>RL2F_300</td>\n",
       "      <td>Control_2700</td>\n",
       "      <td>1</td>\n",
       "      <td>0</td>\n",
       "      <td>0.057</td>\n",
       "      <td>training</td>\n",
       "      <td>-0.419</td>\n",
       "      <td>-1.713</td>\n",
       "      <td>-1.709</td>\n",
       "      <td>-1.708</td>\n",
       "    </tr>\n",
       "    <tr>\n",
       "      <th>12</th>\n",
       "      <td>158</td>\n",
       "      <td>RL2F_459</td>\n",
       "      <td>RL1F_111</td>\n",
       "      <td>1</td>\n",
       "      <td>0</td>\n",
       "      <td>0.005</td>\n",
       "      <td>training</td>\n",
       "      <td>2.384</td>\n",
       "      <td>0.022</td>\n",
       "      <td>0.037</td>\n",
       "      <td>0.039</td>\n",
       "    </tr>\n",
       "    <tr>\n",
       "      <th>13</th>\n",
       "      <td>164</td>\n",
       "      <td>RL2F_459</td>\n",
       "      <td>Control_0282</td>\n",
       "      <td>1</td>\n",
       "      <td>0</td>\n",
       "      <td>0.005</td>\n",
       "      <td>training</td>\n",
       "      <td>-0.419</td>\n",
       "      <td>0.022</td>\n",
       "      <td>0.037</td>\n",
       "      <td>0.039</td>\n",
       "    </tr>\n",
       "    <tr>\n",
       "      <th>14</th>\n",
       "      <td>187</td>\n",
       "      <td>RL1F_192</td>\n",
       "      <td>Control_1089</td>\n",
       "      <td>1</td>\n",
       "      <td>0</td>\n",
       "      <td>0.375</td>\n",
       "      <td>prediction</td>\n",
       "      <td>-0.419</td>\n",
       "      <td>0.316</td>\n",
       "      <td>0.315</td>\n",
       "      <td>0.314</td>\n",
       "    </tr>\n",
       "    <tr>\n",
       "      <th>15</th>\n",
       "      <td>213</td>\n",
       "      <td>RL1F_192</td>\n",
       "      <td>RL1F_082</td>\n",
       "      <td>1</td>\n",
       "      <td>0</td>\n",
       "      <td>0.375</td>\n",
       "      <td>training</td>\n",
       "      <td>2.384</td>\n",
       "      <td>0.316</td>\n",
       "      <td>0.315</td>\n",
       "      <td>0.314</td>\n",
       "    </tr>\n",
       "    <tr>\n",
       "      <th>16</th>\n",
       "      <td>228</td>\n",
       "      <td>RL1F_069</td>\n",
       "      <td>Control_2627</td>\n",
       "      <td>1</td>\n",
       "      <td>0</td>\n",
       "      <td>0.309</td>\n",
       "      <td>training</td>\n",
       "      <td>-0.419</td>\n",
       "      <td>0.409</td>\n",
       "      <td>0.409</td>\n",
       "      <td>0.408</td>\n",
       "    </tr>\n",
       "    <tr>\n",
       "      <th>17</th>\n",
       "      <td>253</td>\n",
       "      <td>RL1F_069</td>\n",
       "      <td>RL2F_467</td>\n",
       "      <td>1</td>\n",
       "      <td>0</td>\n",
       "      <td>0.309</td>\n",
       "      <td>training</td>\n",
       "      <td>2.384</td>\n",
       "      <td>0.409</td>\n",
       "      <td>0.409</td>\n",
       "      <td>0.408</td>\n",
       "    </tr>\n",
       "    <tr>\n",
       "      <th>18</th>\n",
       "      <td>259</td>\n",
       "      <td>RL1F_072</td>\n",
       "      <td>RL1F_184</td>\n",
       "      <td>1</td>\n",
       "      <td>1</td>\n",
       "      <td>0.581</td>\n",
       "      <td>training</td>\n",
       "      <td>2.384</td>\n",
       "      <td>0.354</td>\n",
       "      <td>0.353</td>\n",
       "      <td>0.353</td>\n",
       "    </tr>\n",
       "    <tr>\n",
       "      <th>19</th>\n",
       "      <td>260</td>\n",
       "      <td>RL1F_072</td>\n",
       "      <td>Control_1657</td>\n",
       "      <td>1</td>\n",
       "      <td>1</td>\n",
       "      <td>0.581</td>\n",
       "      <td>prediction</td>\n",
       "      <td>-0.419</td>\n",
       "      <td>0.354</td>\n",
       "      <td>0.353</td>\n",
       "      <td>0.353</td>\n",
       "    </tr>\n",
       "    <tr>\n",
       "      <th>20</th>\n",
       "      <td>291</td>\n",
       "      <td>RL1F_149</td>\n",
       "      <td>RL2F_382</td>\n",
       "      <td>1</td>\n",
       "      <td>0</td>\n",
       "      <td>0.245</td>\n",
       "      <td>training</td>\n",
       "      <td>2.384</td>\n",
       "      <td>0.414</td>\n",
       "      <td>0.415</td>\n",
       "      <td>0.414</td>\n",
       "    </tr>\n",
       "    <tr>\n",
       "      <th>21</th>\n",
       "      <td>292</td>\n",
       "      <td>RL1F_149</td>\n",
       "      <td>Control_0093</td>\n",
       "      <td>1</td>\n",
       "      <td>0</td>\n",
       "      <td>0.246</td>\n",
       "      <td>training</td>\n",
       "      <td>-0.419</td>\n",
       "      <td>0.414</td>\n",
       "      <td>0.415</td>\n",
       "      <td>0.414</td>\n",
       "    </tr>\n",
       "    <tr>\n",
       "      <th>22</th>\n",
       "      <td>316</td>\n",
       "      <td>RL1F_068</td>\n",
       "      <td>Control_2364</td>\n",
       "      <td>1</td>\n",
       "      <td>0</td>\n",
       "      <td>0.292</td>\n",
       "      <td>training</td>\n",
       "      <td>-0.419</td>\n",
       "      <td>0.397</td>\n",
       "      <td>0.397</td>\n",
       "      <td>0.396</td>\n",
       "    </tr>\n",
       "    <tr>\n",
       "      <th>23</th>\n",
       "      <td>330</td>\n",
       "      <td>RL1F_068</td>\n",
       "      <td>RL2F_540</td>\n",
       "      <td>1</td>\n",
       "      <td>0</td>\n",
       "      <td>0.291</td>\n",
       "      <td>training</td>\n",
       "      <td>2.384</td>\n",
       "      <td>0.397</td>\n",
       "      <td>0.397</td>\n",
       "      <td>0.396</td>\n",
       "    </tr>\n",
       "    <tr>\n",
       "      <th>24</th>\n",
       "      <td>337</td>\n",
       "      <td>RL2F_270</td>\n",
       "      <td>Control_3310</td>\n",
       "      <td>1</td>\n",
       "      <td>0</td>\n",
       "      <td>0.050</td>\n",
       "      <td>prediction</td>\n",
       "      <td>-0.419</td>\n",
       "      <td>0.791</td>\n",
       "      <td>0.796</td>\n",
       "      <td>0.796</td>\n",
       "    </tr>\n",
       "    <tr>\n",
       "      <th>25</th>\n",
       "      <td>359</td>\n",
       "      <td>RL2F_270</td>\n",
       "      <td>RL1F_101</td>\n",
       "      <td>1</td>\n",
       "      <td>0</td>\n",
       "      <td>0.050</td>\n",
       "      <td>training</td>\n",
       "      <td>2.384</td>\n",
       "      <td>0.791</td>\n",
       "      <td>0.796</td>\n",
       "      <td>0.796</td>\n",
       "    </tr>\n",
       "    <tr>\n",
       "      <th>26</th>\n",
       "      <td>372</td>\n",
       "      <td>RL1F_148</td>\n",
       "      <td>Control_3294</td>\n",
       "      <td>1</td>\n",
       "      <td>0</td>\n",
       "      <td>0.288</td>\n",
       "      <td>training</td>\n",
       "      <td>-0.419</td>\n",
       "      <td>0.421</td>\n",
       "      <td>0.422</td>\n",
       "      <td>0.422</td>\n",
       "    </tr>\n",
       "    <tr>\n",
       "      <th>27</th>\n",
       "      <td>389</td>\n",
       "      <td>RL1F_148</td>\n",
       "      <td>RL2F_411</td>\n",
       "      <td>1</td>\n",
       "      <td>0</td>\n",
       "      <td>0.288</td>\n",
       "      <td>training</td>\n",
       "      <td>2.384</td>\n",
       "      <td>0.421</td>\n",
       "      <td>0.422</td>\n",
       "      <td>0.422</td>\n",
       "    </tr>\n",
       "    <tr>\n",
       "      <th>28</th>\n",
       "      <td>396</td>\n",
       "      <td>RL1F_071</td>\n",
       "      <td>Control_2228</td>\n",
       "      <td>1</td>\n",
       "      <td>1</td>\n",
       "      <td>0.686</td>\n",
       "      <td>training</td>\n",
       "      <td>-0.419</td>\n",
       "      <td>0.303</td>\n",
       "      <td>0.301</td>\n",
       "      <td>0.301</td>\n",
       "    </tr>\n",
       "    <tr>\n",
       "      <th>29</th>\n",
       "      <td>406</td>\n",
       "      <td>RL1F_071</td>\n",
       "      <td>RL2F_504</td>\n",
       "      <td>1</td>\n",
       "      <td>1</td>\n",
       "      <td>0.685</td>\n",
       "      <td>prediction</td>\n",
       "      <td>2.384</td>\n",
       "      <td>0.303</td>\n",
       "      <td>0.301</td>\n",
       "      <td>0.301</td>\n",
       "    </tr>\n",
       "  </tbody>\n",
       "</table>\n",
       "</div>"
      ],
      "text/plain": [
       "    n-pair     q-seq         r-seq  eq(obs)  eqpred  p(eq=1)  \\\n",
       "0        1  RL2F_267  Control_1043        1       1    0.736   \n",
       "1       18  RL2F_267      RL2F_479        1       1    0.735   \n",
       "2       27  RL2F_693  Control_0650        1       1    0.964   \n",
       "3       47  RL2F_693      RL2F_458        1       1    0.964   \n",
       "4       51  RL2F_559      RL1F_021        1       0    0.187   \n",
       "5       54  RL2F_559  Control_0228        1       0    0.187   \n",
       "6       75  RL2F_268  Control_0873        1       0    0.039   \n",
       "7       81  RL2F_268      RL2F_267        1       0    0.039   \n",
       "8       99  RL2F_296      RL2F_304        1       0    0.113   \n",
       "9      109  RL2F_296  Control_0225        1       0    0.113   \n",
       "10     134  RL2F_300      RL1F_050        1       0    0.057   \n",
       "11     139  RL2F_300  Control_2700        1       0    0.057   \n",
       "12     158  RL2F_459      RL1F_111        1       0    0.005   \n",
       "13     164  RL2F_459  Control_0282        1       0    0.005   \n",
       "14     187  RL1F_192  Control_1089        1       0    0.375   \n",
       "15     213  RL1F_192      RL1F_082        1       0    0.375   \n",
       "16     228  RL1F_069  Control_2627        1       0    0.309   \n",
       "17     253  RL1F_069      RL2F_467        1       0    0.309   \n",
       "18     259  RL1F_072      RL1F_184        1       1    0.581   \n",
       "19     260  RL1F_072  Control_1657        1       1    0.581   \n",
       "20     291  RL1F_149      RL2F_382        1       0    0.245   \n",
       "21     292  RL1F_149  Control_0093        1       0    0.246   \n",
       "22     316  RL1F_068  Control_2364        1       0    0.292   \n",
       "23     330  RL1F_068      RL2F_540        1       0    0.291   \n",
       "24     337  RL2F_270  Control_3310        1       0    0.050   \n",
       "25     359  RL2F_270      RL1F_101        1       0    0.050   \n",
       "26     372  RL1F_148  Control_3294        1       0    0.288   \n",
       "27     389  RL1F_148      RL2F_411        1       0    0.288   \n",
       "28     396  RL1F_071  Control_2228        1       1    0.686   \n",
       "29     406  RL1F_071      RL2F_504        1       1    0.685   \n",
       "\n",
       "   prediction_trainig   eref  Dq0_Seq  Dq1_Seq  Dq2_Seq  \n",
       "0            training -0.419   -2.211   -2.154   -2.144  \n",
       "1            training  2.384   -2.211   -2.154   -2.144  \n",
       "2            training -0.419   -2.461   -2.425   -2.420  \n",
       "3            training  2.384   -2.461   -2.425   -2.420  \n",
       "4         prediction   2.384   -1.744   -1.734   -1.731  \n",
       "5            training -0.419   -1.744   -1.734   -1.731  \n",
       "6            training -0.419   -1.134   -1.137   -1.138  \n",
       "7            training  2.384   -1.134   -1.137   -1.138  \n",
       "8            training  2.384   -1.612   -1.609   -1.607  \n",
       "9         prediction  -0.419   -1.612   -1.609   -1.607  \n",
       "10           training  2.384   -1.713   -1.709   -1.708  \n",
       "11           training -0.419   -1.713   -1.709   -1.708  \n",
       "12           training  2.384    0.022    0.037    0.039  \n",
       "13           training -0.419    0.022    0.037    0.039  \n",
       "14        prediction  -0.419    0.316    0.315    0.314  \n",
       "15           training  2.384    0.316    0.315    0.314  \n",
       "16           training -0.419    0.409    0.409    0.408  \n",
       "17           training  2.384    0.409    0.409    0.408  \n",
       "18           training  2.384    0.354    0.353    0.353  \n",
       "19        prediction  -0.419    0.354    0.353    0.353  \n",
       "20           training  2.384    0.414    0.415    0.414  \n",
       "21           training -0.419    0.414    0.415    0.414  \n",
       "22           training -0.419    0.397    0.397    0.396  \n",
       "23           training  2.384    0.397    0.397    0.396  \n",
       "24        prediction  -0.419    0.791    0.796    0.796  \n",
       "25           training  2.384    0.791    0.796    0.796  \n",
       "26           training -0.419    0.421    0.422    0.422  \n",
       "27           training  2.384    0.421    0.422    0.422  \n",
       "28           training -0.419    0.303    0.301    0.301  \n",
       "29        prediction   2.384    0.303    0.301    0.301  "
      ]
     },
     "execution_count": 235,
     "metadata": {},
     "output_type": "execute_result"
    }
   ],
   "source": [
    "#Loading Data:\n",
    "pd.read_csv(\"Data_DNA.csv\")\n",
    "data = pd.read_csv(\"Data_DNA.csv\")\n",
    "data.head(30)"
   ]
  },
  {
   "cell_type": "code",
   "execution_count": 141,
   "id": "9ea9efc5-8edf-49c4-8ca9-035ca9b4e6ef",
   "metadata": {},
   "outputs": [
    {
     "name": "stdout",
     "output_type": "stream",
     "text": [
      "5440\n",
      "1360\n"
     ]
    }
   ],
   "source": [
    "#Checking Data:\n",
    "data[\"prediction_trainig\"] = data[\"prediction_trainig\"].str.strip()\n",
    "print(len(data[data[\"prediction_trainig\"] == \"training\"]))\n",
    "print(len(data[data[\"prediction_trainig\"] == \"prediction\"]))"
   ]
  },
  {
   "cell_type": "code",
   "execution_count": 142,
   "id": "11d15c98-5c49-453d-9e22-86fab9a8dd9d",
   "metadata": {},
   "outputs": [],
   "source": [
    "#Data Splitting:\n",
    "Y= data.iloc[:,3]\n",
    "X = data.iloc[:, 7:]"
   ]
  },
  {
   "cell_type": "code",
   "execution_count": 143,
   "id": "8bd47fda-3e27-40ad-a8cc-c3ddb4dfff75",
   "metadata": {},
   "outputs": [],
   "source": [
    "#Splitting Data into Training and Prediction Sets:\n",
    "train_data = data[data[\"prediction_trainig\"] == \"training\"]\n",
    "pred_data = data[data[\"prediction_trainig\"] == \"prediction\"]"
   ]
  },
  {
   "cell_type": "code",
   "execution_count": 144,
   "id": "873cab73-d59e-4703-bf71-1af07e899f49",
   "metadata": {},
   "outputs": [
    {
     "name": "stdout",
     "output_type": "stream",
     "text": [
      "(1360, 4)\n",
      "(5440, 4)\n",
      "(1360,)\n",
      "(5440,)\n"
     ]
    }
   ],
   "source": [
    "# Model Preparation for Decision Tree\n",
    "X_train_tree= train_data.iloc[:, 7:]\n",
    "X_test_tree= pred_data.iloc[:, 7:]\n",
    "y_train_tree= train_data.iloc[:, 3]\n",
    "y_test_tree= pred_data.iloc[:, 3]\n",
    "\n",
    "print(X_test_tree.shape)\n",
    "print(X_train_tree.shape)\n",
    "print(y_test_tree.shape)\n",
    "print(y_train_tree.shape)"
   ]
  },
  {
   "cell_type": "code",
   "execution_count": 145,
   "id": "81446dd0-720c-4baa-a728-09caa3a7664e",
   "metadata": {},
   "outputs": [
    {
     "name": "stdout",
     "output_type": "stream",
     "text": [
      "(1360, 4)\n",
      "(5440, 4)\n",
      "(1360,)\n",
      "(5440,)\n"
     ]
    }
   ],
   "source": [
    "#Model Preparation for Random Forest:\n",
    "X_train_forest= train_data.iloc[:, 7:]\n",
    "X_test_forest = pred_data.iloc[:, 7:]\n",
    "y_train_forest= train_data.iloc[:, 3]\n",
    "y_test_forest= pred_data.iloc[:, 3]\n",
    "\n",
    "print(X_test_forest.shape)\n",
    "print(X_train_forest.shape)\n",
    "print(y_test_forest.shape)\n",
    "print(y_train_forest.shape)"
   ]
  },
  {
   "cell_type": "code",
   "execution_count": 146,
   "id": "20ececf8-d3f6-47fe-8e35-dc71cccaff54",
   "metadata": {},
   "outputs": [
    {
     "name": "stdout",
     "output_type": "stream",
     "text": [
      "(1360, 4)\n",
      "(5440, 4)\n",
      "(1360,)\n",
      "(5440,)\n"
     ]
    }
   ],
   "source": [
    "#Model Preparation for Gradient Boosting:\n",
    "X_train_gb= train_data.iloc[:, 7:]\n",
    "X_test_gb= pred_data.iloc[:, 7:]\n",
    "y_train_gb= train_data.iloc[:, 3]\n",
    "y_test_gb= pred_data.iloc[:, 3]\n",
    "\n",
    "print(X_test_gb.shape)\n",
    "print(X_train_gb.shape)\n",
    "print(y_test_gb.shape)\n",
    "print(y_train_gb.shape)"
   ]
  },
  {
   "cell_type": "code",
   "execution_count": 147,
   "id": "22fbfde6-8f7a-4ca0-a007-78aa5df36b23",
   "metadata": {},
   "outputs": [],
   "source": [
    "#X_tree\n",
    "mlr_X_train_tree= X_train_tree[['eref', 'Dq0_Seq', 'Dq1_Seq','Dq2_Seq']]\n",
    "mlr_X_test_tree = X_test_tree[['eref', 'Dq0_Seq', 'Dq1_Seq','Dq2_Seq']]"
   ]
  },
  {
   "cell_type": "code",
   "execution_count": 148,
   "id": "aaab9dc8-7306-46a2-bade-aace13b1b3d9",
   "metadata": {},
   "outputs": [],
   "source": [
    "#X_forest\n",
    "mlr_X_train_forest= X_train_forest[['eref', 'Dq0_Seq', 'Dq1_Seq','Dq2_Seq']]\n",
    "mlr_X_test_forest = X_test_forest[['eref', 'Dq0_Seq', 'Dq1_Seq','Dq2_Seq']]"
   ]
  },
  {
   "cell_type": "code",
   "execution_count": 149,
   "id": "d450d8fc-2859-4965-8887-8b32a53d755d",
   "metadata": {},
   "outputs": [],
   "source": [
    "#X_gradient boosting\n",
    "mlr_X_train_gb= X_train_gb[['eref', 'Dq0_Seq', 'Dq1_Seq','Dq2_Seq']]\n",
    "mlr_X_test_gb= X_test_gb[['eref', 'Dq0_Seq', 'Dq1_Seq','Dq2_Seq']]"
   ]
  },
  {
   "cell_type": "code",
   "execution_count": 150,
   "id": "e6fec43c-1b68-4907-8321-8f9f06445648",
   "metadata": {},
   "outputs": [],
   "source": [
    "seed = 40\n",
    "# Define the decision tree model\n",
    "tree_model = DecisionTreeClassifier(random_state=seed)"
   ]
  },
  {
   "cell_type": "code",
   "execution_count": 151,
   "id": "5a28bbd9-66f6-4aa9-aa07-2515a9d7bff2",
   "metadata": {},
   "outputs": [],
   "source": [
    "#Define the hyperparameter search space\n",
    "param_grid = {\n",
    "    #'criterion': ['gini', 'entropy'],\n",
    "    'max_depth': [10],\n",
    "    'min_samples_split': [7],\n",
    "    'min_samples_leaf': [2]\n",
    "}"
   ]
  },
  {
   "cell_type": "code",
   "execution_count": 153,
   "id": "d3fd7219-52be-47ff-8dbd-ba177a4cc39f",
   "metadata": {},
   "outputs": [
    {
     "data": {
      "text/html": [
       "<style>#sk-container-id-7 {color: black;}#sk-container-id-7 pre{padding: 0;}#sk-container-id-7 div.sk-toggleable {background-color: white;}#sk-container-id-7 label.sk-toggleable__label {cursor: pointer;display: block;width: 100%;margin-bottom: 0;padding: 0.3em;box-sizing: border-box;text-align: center;}#sk-container-id-7 label.sk-toggleable__label-arrow:before {content: \"▸\";float: left;margin-right: 0.25em;color: #696969;}#sk-container-id-7 label.sk-toggleable__label-arrow:hover:before {color: black;}#sk-container-id-7 div.sk-estimator:hover label.sk-toggleable__label-arrow:before {color: black;}#sk-container-id-7 div.sk-toggleable__content {max-height: 0;max-width: 0;overflow: hidden;text-align: left;background-color: #f0f8ff;}#sk-container-id-7 div.sk-toggleable__content pre {margin: 0.2em;color: black;border-radius: 0.25em;background-color: #f0f8ff;}#sk-container-id-7 input.sk-toggleable__control:checked~div.sk-toggleable__content {max-height: 200px;max-width: 100%;overflow: auto;}#sk-container-id-7 input.sk-toggleable__control:checked~label.sk-toggleable__label-arrow:before {content: \"▾\";}#sk-container-id-7 div.sk-estimator input.sk-toggleable__control:checked~label.sk-toggleable__label {background-color: #d4ebff;}#sk-container-id-7 div.sk-label input.sk-toggleable__control:checked~label.sk-toggleable__label {background-color: #d4ebff;}#sk-container-id-7 input.sk-hidden--visually {border: 0;clip: rect(1px 1px 1px 1px);clip: rect(1px, 1px, 1px, 1px);height: 1px;margin: -1px;overflow: hidden;padding: 0;position: absolute;width: 1px;}#sk-container-id-7 div.sk-estimator {font-family: monospace;background-color: #f0f8ff;border: 1px dotted black;border-radius: 0.25em;box-sizing: border-box;margin-bottom: 0.5em;}#sk-container-id-7 div.sk-estimator:hover {background-color: #d4ebff;}#sk-container-id-7 div.sk-parallel-item::after {content: \"\";width: 100%;border-bottom: 1px solid gray;flex-grow: 1;}#sk-container-id-7 div.sk-label:hover label.sk-toggleable__label {background-color: #d4ebff;}#sk-container-id-7 div.sk-serial::before {content: \"\";position: absolute;border-left: 1px solid gray;box-sizing: border-box;top: 0;bottom: 0;left: 50%;z-index: 0;}#sk-container-id-7 div.sk-serial {display: flex;flex-direction: column;align-items: center;background-color: white;padding-right: 0.2em;padding-left: 0.2em;position: relative;}#sk-container-id-7 div.sk-item {position: relative;z-index: 1;}#sk-container-id-7 div.sk-parallel {display: flex;align-items: stretch;justify-content: center;background-color: white;position: relative;}#sk-container-id-7 div.sk-item::before, #sk-container-id-7 div.sk-parallel-item::before {content: \"\";position: absolute;border-left: 1px solid gray;box-sizing: border-box;top: 0;bottom: 0;left: 50%;z-index: -1;}#sk-container-id-7 div.sk-parallel-item {display: flex;flex-direction: column;z-index: 1;position: relative;background-color: white;}#sk-container-id-7 div.sk-parallel-item:first-child::after {align-self: flex-end;width: 50%;}#sk-container-id-7 div.sk-parallel-item:last-child::after {align-self: flex-start;width: 50%;}#sk-container-id-7 div.sk-parallel-item:only-child::after {width: 0;}#sk-container-id-7 div.sk-dashed-wrapped {border: 1px dashed gray;margin: 0 0.4em 0.5em 0.4em;box-sizing: border-box;padding-bottom: 0.4em;background-color: white;}#sk-container-id-7 div.sk-label label {font-family: monospace;font-weight: bold;display: inline-block;line-height: 1.2em;}#sk-container-id-7 div.sk-label-container {text-align: center;}#sk-container-id-7 div.sk-container {/* jupyter's `normalize.less` sets `[hidden] { display: none; }` but bootstrap.min.css set `[hidden] { display: none !important; }` so we also need the `!important` here to be able to override the default hidden behavior on the sphinx rendered scikit-learn.org. See: https://github.com/scikit-learn/scikit-learn/issues/21755 */display: inline-block !important;position: relative;}#sk-container-id-7 div.sk-text-repr-fallback {display: none;}</style><div id=\"sk-container-id-7\" class=\"sk-top-container\"><div class=\"sk-text-repr-fallback\"><pre>GridSearchCV(cv=5, estimator=DecisionTreeClassifier(random_state=40),\n",
       "             param_grid={&#x27;max_depth&#x27;: [10], &#x27;min_samples_leaf&#x27;: [2],\n",
       "                         &#x27;min_samples_split&#x27;: [7]},\n",
       "             scoring=&#x27;accuracy&#x27;)</pre><b>In a Jupyter environment, please rerun this cell to show the HTML representation or trust the notebook. <br />On GitHub, the HTML representation is unable to render, please try loading this page with nbviewer.org.</b></div><div class=\"sk-container\" hidden><div class=\"sk-item sk-dashed-wrapped\"><div class=\"sk-label-container\"><div class=\"sk-label sk-toggleable\"><input class=\"sk-toggleable__control sk-hidden--visually\" id=\"sk-estimator-id-19\" type=\"checkbox\" ><label for=\"sk-estimator-id-19\" class=\"sk-toggleable__label sk-toggleable__label-arrow\">GridSearchCV</label><div class=\"sk-toggleable__content\"><pre>GridSearchCV(cv=5, estimator=DecisionTreeClassifier(random_state=40),\n",
       "             param_grid={&#x27;max_depth&#x27;: [10], &#x27;min_samples_leaf&#x27;: [2],\n",
       "                         &#x27;min_samples_split&#x27;: [7]},\n",
       "             scoring=&#x27;accuracy&#x27;)</pre></div></div></div><div class=\"sk-parallel\"><div class=\"sk-parallel-item\"><div class=\"sk-item\"><div class=\"sk-label-container\"><div class=\"sk-label sk-toggleable\"><input class=\"sk-toggleable__control sk-hidden--visually\" id=\"sk-estimator-id-20\" type=\"checkbox\" ><label for=\"sk-estimator-id-20\" class=\"sk-toggleable__label sk-toggleable__label-arrow\">estimator: DecisionTreeClassifier</label><div class=\"sk-toggleable__content\"><pre>DecisionTreeClassifier(random_state=40)</pre></div></div></div><div class=\"sk-serial\"><div class=\"sk-item\"><div class=\"sk-estimator sk-toggleable\"><input class=\"sk-toggleable__control sk-hidden--visually\" id=\"sk-estimator-id-21\" type=\"checkbox\" ><label for=\"sk-estimator-id-21\" class=\"sk-toggleable__label sk-toggleable__label-arrow\">DecisionTreeClassifier</label><div class=\"sk-toggleable__content\"><pre>DecisionTreeClassifier(random_state=40)</pre></div></div></div></div></div></div></div></div></div></div>"
      ],
      "text/plain": [
       "GridSearchCV(cv=5, estimator=DecisionTreeClassifier(random_state=40),\n",
       "             param_grid={'max_depth': [10], 'min_samples_leaf': [2],\n",
       "                         'min_samples_split': [7]},\n",
       "             scoring='accuracy')"
      ]
     },
     "execution_count": 153,
     "metadata": {},
     "output_type": "execute_result"
    }
   ],
   "source": [
    "# Perform hyperparameter search by cross-validation\n",
    "grid_search_tree = GridSearchCV(tree_model, param_grid, cv=5, scoring='accuracy')\n",
    "grid_search_tree.fit(mlr_X_train_tree, y_train_tree)"
   ]
  },
  {
   "cell_type": "code",
   "execution_count": 154,
   "id": "e2a23dbf-868f-44ff-832c-004b1038b090",
   "metadata": {},
   "outputs": [
    {
     "name": "stdout",
     "output_type": "stream",
     "text": [
      "better hyperparameters : {'max_depth': 10, 'min_samples_leaf': 2, 'min_samples_split': 7}\n"
     ]
    }
   ],
   "source": [
    "# Print the best hyperparameters \n",
    "best_params = grid_search_tree.best_params_\n",
    "print(\"better hyperparameters :\", best_params)"
   ]
  },
  {
   "cell_type": "code",
   "execution_count": 155,
   "id": "91d8509f-e242-42f1-9940-d3530f7c7cd1",
   "metadata": {},
   "outputs": [
    {
     "name": "stdout",
     "output_type": "stream",
     "text": [
      "\n",
      "All hyperparameters:\n",
      "ccp_alpha: 0.0\n",
      "class_weight: None\n",
      "criterion: gini\n",
      "max_depth: 10\n",
      "max_features: None\n",
      "max_leaf_nodes: None\n",
      "min_impurity_decrease: 0.0\n",
      "min_samples_leaf: 2\n",
      "min_samples_split: 7\n",
      "min_weight_fraction_leaf: 0.0\n",
      "random_state: 40\n",
      "splitter: best\n"
     ]
    }
   ],
   "source": [
    " # Print all hyperparameters, including internal hyperparameters\n",
    "all_params = grid_search_tree.best_estimator_.get_params()\n",
    "print(\"\\nAll hyperparameters:\")\n",
    "for param_name in sorted(all_params.keys()):\n",
    "    print(f\"{param_name}: {all_params[param_name]}\")"
   ]
  },
  {
   "cell_type": "code",
   "execution_count": 156,
   "id": "735d7645-286f-4838-8efa-2d239dc54ffd",
   "metadata": {},
   "outputs": [],
   "source": [
    "# ramdom forest models"
   ]
  },
  {
   "cell_type": "code",
   "execution_count": 157,
   "id": "4a06c00d-a125-4b03-98b9-34b4c4a494bf",
   "metadata": {},
   "outputs": [],
   "source": [
    "#  X__forest \n",
    "mlr_X_train_forest= X_train_forest[['eref', 'Dq0_Seq', 'Dq1_Seq','Dq2_Seq']]\n",
    "mlr_X_test_forest = X_test_forest[['eref', 'Dq0_Seq', 'Dq1_Seq','Dq2_Seq']]"
   ]
  },
  {
   "cell_type": "code",
   "execution_count": 158,
   "id": "ca6c38dd-21a8-44c3-ad47-b9a011ab566c",
   "metadata": {},
   "outputs": [],
   "source": [
    "# Define the random forest model\n",
    "seed = 44\n",
    "rf_model = RandomForestClassifier(random_state=seed)"
   ]
  },
  {
   "cell_type": "code",
   "execution_count": 160,
   "id": "2e76d007-13c4-496a-94f8-f0ff3f614aff",
   "metadata": {},
   "outputs": [],
   "source": [
    "#Define the hyperparameter search space\n",
    "param_grid = {\n",
    "    'n_estimators': [50],\n",
    "    'max_depth': [10],\n",
    "    'min_samples_split': [4],\n",
    "    'min_samples_leaf': [2]\n",
    "}"
   ]
  },
  {
   "cell_type": "code",
   "execution_count": 161,
   "id": "62c487fd-c5b9-40ae-965a-e0622db7132b",
   "metadata": {},
   "outputs": [
    {
     "data": {
      "text/html": [
       "<style>#sk-container-id-8 {color: black;}#sk-container-id-8 pre{padding: 0;}#sk-container-id-8 div.sk-toggleable {background-color: white;}#sk-container-id-8 label.sk-toggleable__label {cursor: pointer;display: block;width: 100%;margin-bottom: 0;padding: 0.3em;box-sizing: border-box;text-align: center;}#sk-container-id-8 label.sk-toggleable__label-arrow:before {content: \"▸\";float: left;margin-right: 0.25em;color: #696969;}#sk-container-id-8 label.sk-toggleable__label-arrow:hover:before {color: black;}#sk-container-id-8 div.sk-estimator:hover label.sk-toggleable__label-arrow:before {color: black;}#sk-container-id-8 div.sk-toggleable__content {max-height: 0;max-width: 0;overflow: hidden;text-align: left;background-color: #f0f8ff;}#sk-container-id-8 div.sk-toggleable__content pre {margin: 0.2em;color: black;border-radius: 0.25em;background-color: #f0f8ff;}#sk-container-id-8 input.sk-toggleable__control:checked~div.sk-toggleable__content {max-height: 200px;max-width: 100%;overflow: auto;}#sk-container-id-8 input.sk-toggleable__control:checked~label.sk-toggleable__label-arrow:before {content: \"▾\";}#sk-container-id-8 div.sk-estimator input.sk-toggleable__control:checked~label.sk-toggleable__label {background-color: #d4ebff;}#sk-container-id-8 div.sk-label input.sk-toggleable__control:checked~label.sk-toggleable__label {background-color: #d4ebff;}#sk-container-id-8 input.sk-hidden--visually {border: 0;clip: rect(1px 1px 1px 1px);clip: rect(1px, 1px, 1px, 1px);height: 1px;margin: -1px;overflow: hidden;padding: 0;position: absolute;width: 1px;}#sk-container-id-8 div.sk-estimator {font-family: monospace;background-color: #f0f8ff;border: 1px dotted black;border-radius: 0.25em;box-sizing: border-box;margin-bottom: 0.5em;}#sk-container-id-8 div.sk-estimator:hover {background-color: #d4ebff;}#sk-container-id-8 div.sk-parallel-item::after {content: \"\";width: 100%;border-bottom: 1px solid gray;flex-grow: 1;}#sk-container-id-8 div.sk-label:hover label.sk-toggleable__label {background-color: #d4ebff;}#sk-container-id-8 div.sk-serial::before {content: \"\";position: absolute;border-left: 1px solid gray;box-sizing: border-box;top: 0;bottom: 0;left: 50%;z-index: 0;}#sk-container-id-8 div.sk-serial {display: flex;flex-direction: column;align-items: center;background-color: white;padding-right: 0.2em;padding-left: 0.2em;position: relative;}#sk-container-id-8 div.sk-item {position: relative;z-index: 1;}#sk-container-id-8 div.sk-parallel {display: flex;align-items: stretch;justify-content: center;background-color: white;position: relative;}#sk-container-id-8 div.sk-item::before, #sk-container-id-8 div.sk-parallel-item::before {content: \"\";position: absolute;border-left: 1px solid gray;box-sizing: border-box;top: 0;bottom: 0;left: 50%;z-index: -1;}#sk-container-id-8 div.sk-parallel-item {display: flex;flex-direction: column;z-index: 1;position: relative;background-color: white;}#sk-container-id-8 div.sk-parallel-item:first-child::after {align-self: flex-end;width: 50%;}#sk-container-id-8 div.sk-parallel-item:last-child::after {align-self: flex-start;width: 50%;}#sk-container-id-8 div.sk-parallel-item:only-child::after {width: 0;}#sk-container-id-8 div.sk-dashed-wrapped {border: 1px dashed gray;margin: 0 0.4em 0.5em 0.4em;box-sizing: border-box;padding-bottom: 0.4em;background-color: white;}#sk-container-id-8 div.sk-label label {font-family: monospace;font-weight: bold;display: inline-block;line-height: 1.2em;}#sk-container-id-8 div.sk-label-container {text-align: center;}#sk-container-id-8 div.sk-container {/* jupyter's `normalize.less` sets `[hidden] { display: none; }` but bootstrap.min.css set `[hidden] { display: none !important; }` so we also need the `!important` here to be able to override the default hidden behavior on the sphinx rendered scikit-learn.org. See: https://github.com/scikit-learn/scikit-learn/issues/21755 */display: inline-block !important;position: relative;}#sk-container-id-8 div.sk-text-repr-fallback {display: none;}</style><div id=\"sk-container-id-8\" class=\"sk-top-container\"><div class=\"sk-text-repr-fallback\"><pre>GridSearchCV(cv=5, estimator=RandomForestClassifier(random_state=44), n_jobs=-1,\n",
       "             param_grid={&#x27;max_depth&#x27;: [10], &#x27;min_samples_leaf&#x27;: [2],\n",
       "                         &#x27;min_samples_split&#x27;: [4], &#x27;n_estimators&#x27;: [50]},\n",
       "             scoring=&#x27;accuracy&#x27;)</pre><b>In a Jupyter environment, please rerun this cell to show the HTML representation or trust the notebook. <br />On GitHub, the HTML representation is unable to render, please try loading this page with nbviewer.org.</b></div><div class=\"sk-container\" hidden><div class=\"sk-item sk-dashed-wrapped\"><div class=\"sk-label-container\"><div class=\"sk-label sk-toggleable\"><input class=\"sk-toggleable__control sk-hidden--visually\" id=\"sk-estimator-id-22\" type=\"checkbox\" ><label for=\"sk-estimator-id-22\" class=\"sk-toggleable__label sk-toggleable__label-arrow\">GridSearchCV</label><div class=\"sk-toggleable__content\"><pre>GridSearchCV(cv=5, estimator=RandomForestClassifier(random_state=44), n_jobs=-1,\n",
       "             param_grid={&#x27;max_depth&#x27;: [10], &#x27;min_samples_leaf&#x27;: [2],\n",
       "                         &#x27;min_samples_split&#x27;: [4], &#x27;n_estimators&#x27;: [50]},\n",
       "             scoring=&#x27;accuracy&#x27;)</pre></div></div></div><div class=\"sk-parallel\"><div class=\"sk-parallel-item\"><div class=\"sk-item\"><div class=\"sk-label-container\"><div class=\"sk-label sk-toggleable\"><input class=\"sk-toggleable__control sk-hidden--visually\" id=\"sk-estimator-id-23\" type=\"checkbox\" ><label for=\"sk-estimator-id-23\" class=\"sk-toggleable__label sk-toggleable__label-arrow\">estimator: RandomForestClassifier</label><div class=\"sk-toggleable__content\"><pre>RandomForestClassifier(random_state=44)</pre></div></div></div><div class=\"sk-serial\"><div class=\"sk-item\"><div class=\"sk-estimator sk-toggleable\"><input class=\"sk-toggleable__control sk-hidden--visually\" id=\"sk-estimator-id-24\" type=\"checkbox\" ><label for=\"sk-estimator-id-24\" class=\"sk-toggleable__label sk-toggleable__label-arrow\">RandomForestClassifier</label><div class=\"sk-toggleable__content\"><pre>RandomForestClassifier(random_state=44)</pre></div></div></div></div></div></div></div></div></div></div>"
      ],
      "text/plain": [
       "GridSearchCV(cv=5, estimator=RandomForestClassifier(random_state=44), n_jobs=-1,\n",
       "             param_grid={'max_depth': [10], 'min_samples_leaf': [2],\n",
       "                         'min_samples_split': [4], 'n_estimators': [50]},\n",
       "             scoring='accuracy')"
      ]
     },
     "execution_count": 161,
     "metadata": {},
     "output_type": "execute_result"
    }
   ],
   "source": [
    "# Perform hyperparameter search by cross-validation\n",
    "grid_search_forest = GridSearchCV(estimator=rf_model, param_grid=param_grid, cv=5, scoring='accuracy', n_jobs=-1)\n",
    "# fit model\n",
    "grid_search_forest.fit(mlr_X_train_forest, y_train_forest)"
   ]
  },
  {
   "cell_type": "code",
   "execution_count": 162,
   "id": "58b9d6a7-bf3c-4f01-96b6-05b3552df3ec",
   "metadata": {},
   "outputs": [
    {
     "name": "stdout",
     "output_type": "stream",
     "text": [
      "Mejores hiperparámetros: {'max_depth': 10, 'min_samples_leaf': 2, 'min_samples_split': 4, 'n_estimators': 50}\n"
     ]
    }
   ],
   "source": [
    "# best hyperparameters\n",
    "best_params = grid_search_forest.best_params_\n",
    "print(\"Mejores hiperparámetros:\", best_params)"
   ]
  },
  {
   "cell_type": "code",
   "execution_count": 163,
   "id": "3a601e88-050f-49d4-af3d-d8e026b26dca",
   "metadata": {},
   "outputs": [
    {
     "name": "stdout",
     "output_type": "stream",
     "text": [
      "\n",
      "Todos los hiperparámetros:\n",
      "bootstrap: True\n",
      "ccp_alpha: 0.0\n",
      "class_weight: None\n",
      "criterion: gini\n",
      "max_depth: 10\n",
      "max_features: sqrt\n",
      "max_leaf_nodes: None\n",
      "max_samples: None\n",
      "min_impurity_decrease: 0.0\n",
      "min_samples_leaf: 2\n",
      "min_samples_split: 4\n",
      "min_weight_fraction_leaf: 0.0\n",
      "n_estimators: 50\n",
      "n_jobs: None\n",
      "oob_score: False\n",
      "random_state: 44\n",
      "verbose: 0\n",
      "warm_start: False\n"
     ]
    }
   ],
   "source": [
    "# Print all hyperparameters, including internal hyperparameters\n",
    "all_params = grid_search_forest.best_estimator_.get_params()\n",
    "print(\"\\nTodos los hiperparámetros:\")\n",
    "for param_name in sorted(all_params.keys()):\n",
    "    print(f\"{param_name}: {all_params[param_name]}\")"
   ]
  },
  {
   "cell_type": "code",
   "execution_count": 164,
   "id": "7c123d00-d56f-4a9e-98eb-0356041c5bc5",
   "metadata": {},
   "outputs": [],
   "source": [
    "seed = 42\n",
    "# Define the Gradient Boosting model\n",
    "gb_model = GradientBoostingClassifier(random_state=seed)"
   ]
  },
  {
   "cell_type": "code",
   "execution_count": 165,
   "id": "cd85947d-fa33-4f49-a52a-3be9548ba084",
   "metadata": {},
   "outputs": [],
   "source": [
    "# X_gb\n",
    "mlr_X_train_gb= X_train_gb[['eref', 'Dq0_Seq', 'Dq1_Seq','Dq2_Seq']]\n",
    "mlr_X_test_gb = X_test_gb[['eref', 'Dq0_Seq', 'Dq1_Seq','Dq2_Seq']]"
   ]
  },
  {
   "cell_type": "code",
   "execution_count": 167,
   "id": "7d8eab89-afc6-40dc-bb4d-b717325b5a04",
   "metadata": {},
   "outputs": [],
   "source": [
    "param_grid = {\n",
    "    'n_estimators': [80],\n",
    "    'learning_rate': [0.5],\n",
    "    'max_depth': [4],\n",
    "    'min_samples_split': [4],\n",
    "    'min_samples_leaf': [6]\n",
    "}"
   ]
  },
  {
   "cell_type": "code",
   "execution_count": 168,
   "id": "a9271219-8108-45ac-8753-98eba46f1986",
   "metadata": {},
   "outputs": [
    {
     "data": {
      "text/html": [
       "<style>#sk-container-id-9 {color: black;}#sk-container-id-9 pre{padding: 0;}#sk-container-id-9 div.sk-toggleable {background-color: white;}#sk-container-id-9 label.sk-toggleable__label {cursor: pointer;display: block;width: 100%;margin-bottom: 0;padding: 0.3em;box-sizing: border-box;text-align: center;}#sk-container-id-9 label.sk-toggleable__label-arrow:before {content: \"▸\";float: left;margin-right: 0.25em;color: #696969;}#sk-container-id-9 label.sk-toggleable__label-arrow:hover:before {color: black;}#sk-container-id-9 div.sk-estimator:hover label.sk-toggleable__label-arrow:before {color: black;}#sk-container-id-9 div.sk-toggleable__content {max-height: 0;max-width: 0;overflow: hidden;text-align: left;background-color: #f0f8ff;}#sk-container-id-9 div.sk-toggleable__content pre {margin: 0.2em;color: black;border-radius: 0.25em;background-color: #f0f8ff;}#sk-container-id-9 input.sk-toggleable__control:checked~div.sk-toggleable__content {max-height: 200px;max-width: 100%;overflow: auto;}#sk-container-id-9 input.sk-toggleable__control:checked~label.sk-toggleable__label-arrow:before {content: \"▾\";}#sk-container-id-9 div.sk-estimator input.sk-toggleable__control:checked~label.sk-toggleable__label {background-color: #d4ebff;}#sk-container-id-9 div.sk-label input.sk-toggleable__control:checked~label.sk-toggleable__label {background-color: #d4ebff;}#sk-container-id-9 input.sk-hidden--visually {border: 0;clip: rect(1px 1px 1px 1px);clip: rect(1px, 1px, 1px, 1px);height: 1px;margin: -1px;overflow: hidden;padding: 0;position: absolute;width: 1px;}#sk-container-id-9 div.sk-estimator {font-family: monospace;background-color: #f0f8ff;border: 1px dotted black;border-radius: 0.25em;box-sizing: border-box;margin-bottom: 0.5em;}#sk-container-id-9 div.sk-estimator:hover {background-color: #d4ebff;}#sk-container-id-9 div.sk-parallel-item::after {content: \"\";width: 100%;border-bottom: 1px solid gray;flex-grow: 1;}#sk-container-id-9 div.sk-label:hover label.sk-toggleable__label {background-color: #d4ebff;}#sk-container-id-9 div.sk-serial::before {content: \"\";position: absolute;border-left: 1px solid gray;box-sizing: border-box;top: 0;bottom: 0;left: 50%;z-index: 0;}#sk-container-id-9 div.sk-serial {display: flex;flex-direction: column;align-items: center;background-color: white;padding-right: 0.2em;padding-left: 0.2em;position: relative;}#sk-container-id-9 div.sk-item {position: relative;z-index: 1;}#sk-container-id-9 div.sk-parallel {display: flex;align-items: stretch;justify-content: center;background-color: white;position: relative;}#sk-container-id-9 div.sk-item::before, #sk-container-id-9 div.sk-parallel-item::before {content: \"\";position: absolute;border-left: 1px solid gray;box-sizing: border-box;top: 0;bottom: 0;left: 50%;z-index: -1;}#sk-container-id-9 div.sk-parallel-item {display: flex;flex-direction: column;z-index: 1;position: relative;background-color: white;}#sk-container-id-9 div.sk-parallel-item:first-child::after {align-self: flex-end;width: 50%;}#sk-container-id-9 div.sk-parallel-item:last-child::after {align-self: flex-start;width: 50%;}#sk-container-id-9 div.sk-parallel-item:only-child::after {width: 0;}#sk-container-id-9 div.sk-dashed-wrapped {border: 1px dashed gray;margin: 0 0.4em 0.5em 0.4em;box-sizing: border-box;padding-bottom: 0.4em;background-color: white;}#sk-container-id-9 div.sk-label label {font-family: monospace;font-weight: bold;display: inline-block;line-height: 1.2em;}#sk-container-id-9 div.sk-label-container {text-align: center;}#sk-container-id-9 div.sk-container {/* jupyter's `normalize.less` sets `[hidden] { display: none; }` but bootstrap.min.css set `[hidden] { display: none !important; }` so we also need the `!important` here to be able to override the default hidden behavior on the sphinx rendered scikit-learn.org. See: https://github.com/scikit-learn/scikit-learn/issues/21755 */display: inline-block !important;position: relative;}#sk-container-id-9 div.sk-text-repr-fallback {display: none;}</style><div id=\"sk-container-id-9\" class=\"sk-top-container\"><div class=\"sk-text-repr-fallback\"><pre>GridSearchCV(cv=5, estimator=GradientBoostingClassifier(random_state=42),\n",
       "             n_jobs=-1,\n",
       "             param_grid={&#x27;learning_rate&#x27;: [0.5], &#x27;max_depth&#x27;: [4],\n",
       "                         &#x27;min_samples_leaf&#x27;: [6], &#x27;min_samples_split&#x27;: [4],\n",
       "                         &#x27;n_estimators&#x27;: [80]},\n",
       "             scoring=&#x27;accuracy&#x27;)</pre><b>In a Jupyter environment, please rerun this cell to show the HTML representation or trust the notebook. <br />On GitHub, the HTML representation is unable to render, please try loading this page with nbviewer.org.</b></div><div class=\"sk-container\" hidden><div class=\"sk-item sk-dashed-wrapped\"><div class=\"sk-label-container\"><div class=\"sk-label sk-toggleable\"><input class=\"sk-toggleable__control sk-hidden--visually\" id=\"sk-estimator-id-25\" type=\"checkbox\" ><label for=\"sk-estimator-id-25\" class=\"sk-toggleable__label sk-toggleable__label-arrow\">GridSearchCV</label><div class=\"sk-toggleable__content\"><pre>GridSearchCV(cv=5, estimator=GradientBoostingClassifier(random_state=42),\n",
       "             n_jobs=-1,\n",
       "             param_grid={&#x27;learning_rate&#x27;: [0.5], &#x27;max_depth&#x27;: [4],\n",
       "                         &#x27;min_samples_leaf&#x27;: [6], &#x27;min_samples_split&#x27;: [4],\n",
       "                         &#x27;n_estimators&#x27;: [80]},\n",
       "             scoring=&#x27;accuracy&#x27;)</pre></div></div></div><div class=\"sk-parallel\"><div class=\"sk-parallel-item\"><div class=\"sk-item\"><div class=\"sk-label-container\"><div class=\"sk-label sk-toggleable\"><input class=\"sk-toggleable__control sk-hidden--visually\" id=\"sk-estimator-id-26\" type=\"checkbox\" ><label for=\"sk-estimator-id-26\" class=\"sk-toggleable__label sk-toggleable__label-arrow\">estimator: GradientBoostingClassifier</label><div class=\"sk-toggleable__content\"><pre>GradientBoostingClassifier(random_state=42)</pre></div></div></div><div class=\"sk-serial\"><div class=\"sk-item\"><div class=\"sk-estimator sk-toggleable\"><input class=\"sk-toggleable__control sk-hidden--visually\" id=\"sk-estimator-id-27\" type=\"checkbox\" ><label for=\"sk-estimator-id-27\" class=\"sk-toggleable__label sk-toggleable__label-arrow\">GradientBoostingClassifier</label><div class=\"sk-toggleable__content\"><pre>GradientBoostingClassifier(random_state=42)</pre></div></div></div></div></div></div></div></div></div></div>"
      ],
      "text/plain": [
       "GridSearchCV(cv=5, estimator=GradientBoostingClassifier(random_state=42),\n",
       "             n_jobs=-1,\n",
       "             param_grid={'learning_rate': [0.5], 'max_depth': [4],\n",
       "                         'min_samples_leaf': [6], 'min_samples_split': [4],\n",
       "                         'n_estimators': [80]},\n",
       "             scoring='accuracy')"
      ]
     },
     "execution_count": 168,
     "metadata": {},
     "output_type": "execute_result"
    }
   ],
   "source": [
    "# Create the GridSearchCV object\n",
    "grid_search_gb = GridSearchCV(estimator=gb_model, param_grid=param_grid, cv=5, scoring='accuracy', n_jobs=-1)\n",
    "# Entrenar el modelo\n",
    "grid_search_gb.fit(mlr_X_train_gb, y_train_gb)"
   ]
  },
  {
   "cell_type": "code",
   "execution_count": 169,
   "id": "8ac1c689-e9b6-4b1f-a984-29435ca5a2dd",
   "metadata": {},
   "outputs": [
    {
     "name": "stdout",
     "output_type": "stream",
     "text": [
      "Mejores hiperparámetros para Gradient Boosting: {'learning_rate': 0.5, 'max_depth': 4, 'min_samples_leaf': 6, 'min_samples_split': 4, 'n_estimators': 80}\n"
     ]
    }
   ],
   "source": [
    "# Get the best hyperparameters\n",
    "best_params_gb = grid_search_gb.best_params_\n",
    "print(\"Mejores hiperparámetros para Gradient Boosting:\", best_params_gb)"
   ]
  },
  {
   "cell_type": "code",
   "execution_count": 170,
   "id": "e1449585-ab60-4004-81d9-b01d72fc2b77",
   "metadata": {},
   "outputs": [
    {
     "name": "stdout",
     "output_type": "stream",
     "text": [
      "\n",
      "Todos los hiperparámetros internos:\n",
      "ccp_alpha: 0.0\n",
      "criterion: friedman_mse\n",
      "init: None\n",
      "learning_rate: 0.5\n",
      "loss: log_loss\n",
      "max_depth: 4\n",
      "max_features: None\n",
      "max_leaf_nodes: None\n",
      "min_impurity_decrease: 0.0\n",
      "min_samples_leaf: 6\n",
      "min_samples_split: 4\n",
      "min_weight_fraction_leaf: 0.0\n",
      "n_estimators: 80\n",
      "n_iter_no_change: None\n",
      "random_state: 42\n",
      "subsample: 1.0\n",
      "tol: 0.0001\n",
      "validation_fraction: 0.1\n",
      "verbose: 0\n",
      "warm_start: False\n"
     ]
    }
   ],
   "source": [
    "# Print all internal hyperparameters\n",
    "internal_params = grid_search_gb.best_estimator_.get_params()\n",
    "print(\"\\nTodos los hiperparámetros internos:\")\n",
    "for param_name, param_value in internal_params.items():\n",
    "    print(f\"{param_name}: {param_value}\")"
   ]
  },
  {
   "cell_type": "code",
   "execution_count": 171,
   "id": "4c9ee5ca-cea5-4286-a4b2-58cb0fd2765d",
   "metadata": {},
   "outputs": [],
   "source": [
    "# make predictions on the train set\n",
    "y_pred_train_tree = grid_search_tree.predict(mlr_X_train_tree)\n",
    "y_pred_train_forest = grid_search_forest.predict(mlr_X_train_forest)\n",
    "y_pred_train_gb = grid_search_gb.predict(mlr_X_train_gb) "
   ]
  },
  {
   "cell_type": "code",
   "execution_count": 172,
   "id": "22d694e9-b043-42b0-a554-4d84320da5bb",
   "metadata": {},
   "outputs": [],
   "source": [
    "# calculate confusion matrices\n",
    "cm_train_tree = confusion_matrix(y_train_tree, y_pred_train_tree)\n",
    "cm_train_forest = confusion_matrix(y_train_forest, y_pred_train_forest)\n",
    "cm_train_gb = confusion_matrix(y_train_gb, y_pred_train_gb)"
   ]
  },
  {
   "cell_type": "code",
   "execution_count": 173,
   "id": "0c646f8c-321c-469b-9e4b-8a3555094c6f",
   "metadata": {},
   "outputs": [],
   "source": [
    "# calculate performance metrics\n",
    "tn_train_tree, fp_train_tree, fn_train_tree, tp_train_tree = cm_train_tree.ravel()\n",
    "tn_train_forest, fp_train_forest, fn_train_forest, tp_train_forest = cm_train_forest.ravel()\n",
    "tn_train_gb, fp_train_gb, fn_train_gb, tp_train_gb = cm_train_gb.ravel()"
   ]
  },
  {
   "cell_type": "code",
   "execution_count": 174,
   "id": "3aadc18c-a1d2-405f-81e1-c349b587e4d7",
   "metadata": {},
   "outputs": [],
   "source": [
    "specificity_train_tree = tn_train_tree / (tn_train_tree + fp_train_tree)\n",
    "sensitivity_train_tree = tp_train_tree / (tp_train_tree + fn_train_tree)\n",
    "accuracy_train_tree = (tp_train_tree + tn_train_tree) / (tp_train_tree + tn_train_tree + fp_train_tree + fn_train_tree)\n",
    "false_positive_train_tree = fp_train_tree / (fp_train_tree + tn_train_tree)"
   ]
  },
  {
   "cell_type": "code",
   "execution_count": 175,
   "id": "17ed6db9-d9b2-4a69-9d24-611192b1af4b",
   "metadata": {},
   "outputs": [],
   "source": [
    "specificity_train_forest = tn_train_forest / (tn_train_forest + fp_train_forest)\n",
    "sensitivity_train_forest = tp_train_forest / (tp_train_forest + fn_train_forest)\n",
    "accuracy_train_forest = (tp_train_forest + tn_train_forest) / (tp_train_forest + tn_train_forest + fp_train_forest + fn_train_forest)\n",
    "false_positive_train_forest = fp_train_forest / (fp_train_forest + tn_train_forest)"
   ]
  },
  {
   "cell_type": "code",
   "execution_count": 176,
   "id": "85a707d1-fc0a-49d7-bb0a-f57380727d25",
   "metadata": {},
   "outputs": [],
   "source": [
    "specificity_train_gb = tn_train_gb / (tn_train_gb + fp_train_gb)\n",
    "sensitivity_train_gb = tp_train_gb / (tp_train_gb + fn_train_gb)\n",
    "accuracy_train_gb = (tp_train_gb + tn_train_gb) / (tp_train_gb + tn_train_gb + fp_train_gb + fn_train_gb)\n",
    "false_positive_train_gb = fp_train_gb / (fp_train_gb + tn_train_gb)"
   ]
  },
  {
   "cell_type": "code",
   "execution_count": 177,
   "id": "f80165b8-23d7-45c2-bc74-11dfa8e3d756",
   "metadata": {},
   "outputs": [],
   "source": [
    "mcc_train_tree = matthews_corrcoef(y_train_tree, y_pred_train_tree)\n",
    "mcc_train_forest = matthews_corrcoef(y_train_forest, y_pred_train_forest)\n",
    "mcc_train_gb = matthews_corrcoef(y_train_gb, y_pred_train_gb)"
   ]
  },
  {
   "cell_type": "code",
   "execution_count": 178,
   "id": "5d6b688b-f360-4387-b364-18f102f131fe",
   "metadata": {},
   "outputs": [],
   "source": [
    "# make predictions on the test set\n",
    "y_pred_test_tree = grid_search_tree.predict(mlr_X_test_tree)\n",
    "y_pred_test_forest = grid_search_forest.predict(mlr_X_test_forest)\n",
    "y_pred_test_gb = grid_search_gb.predict(mlr_X_test_gb) "
   ]
  },
  {
   "cell_type": "code",
   "execution_count": 179,
   "id": "3720e0dd-81f1-4441-abc0-ff18f00491ef",
   "metadata": {},
   "outputs": [],
   "source": [
    "cm_pred_test_tree = confusion_matrix(y_test_tree, y_pred_test_tree)\n",
    "cm_pred_test_forest = confusion_matrix(y_test_forest, y_pred_test_forest)\n",
    "cm_pred_test_gb = confusion_matrix(y_test_gb, y_pred_test_gb)"
   ]
  },
  {
   "cell_type": "code",
   "execution_count": 180,
   "id": "910cb8a3-0e2e-4eee-944c-408371faec80",
   "metadata": {},
   "outputs": [],
   "source": [
    "# calculate performance metrics on test set\n",
    "tn_test_tree, fp_test_tree, fn_test_tree, tp_test_tree = cm_pred_test_tree.ravel()\n",
    "tn_test_forest, fp_test_forest, fn_test_forest, tp_test_forest = cm_pred_test_forest.ravel()\n",
    "tn_test_gb, fp_test_gb, fn_test_gb, tp_test_gb = cm_pred_test_gb.ravel()"
   ]
  },
  {
   "cell_type": "code",
   "execution_count": 181,
   "id": "adc1e30d-b2b7-4093-9acf-5707ceb9d394",
   "metadata": {},
   "outputs": [],
   "source": [
    "specificity_test_tree = tn_test_tree / (tn_test_tree + fp_test_tree)\n",
    "sensitivity_test_tree = tp_test_tree / (tp_test_tree + fn_test_tree)\n",
    "accuracy_test_tree = (tp_test_tree + tn_test_tree) / (tp_test_tree + tn_test_tree + fp_test_tree + fn_test_tree)\n",
    "false_positive_test_tree = fp_test_tree / (fp_test_tree + tn_test_tree)"
   ]
  },
  {
   "cell_type": "code",
   "execution_count": 182,
   "id": "9deb9fda-8833-4ea7-b3e1-e19ef2409446",
   "metadata": {},
   "outputs": [],
   "source": [
    "specificity_test_forest = tn_test_forest / (tn_test_forest + fp_test_forest)\n",
    "sensitivity_test_forest = tp_test_forest / (tp_test_forest + fn_test_forest)\n",
    "accuracy_test_forest = (tp_test_forest + tn_test_forest) / (tp_test_forest + tn_test_forest + fp_test_forest + fn_test_forest)\n",
    "false_positive_test_forest = fp_test_forest / (fp_test_forest + tn_test_forest)"
   ]
  },
  {
   "cell_type": "code",
   "execution_count": 183,
   "id": "fd4db56f-8a84-4a75-baf2-b200acc1bf7b",
   "metadata": {},
   "outputs": [],
   "source": [
    "specificity_test_gb = tn_test_gb / (tn_test_gb + fp_test_gb)\n",
    "sensitivity_test_gb = tp_test_gb / (tp_test_gb + fn_test_gb)\n",
    "accuracy_test_gb = (tp_test_gb + tn_test_gb) / (tp_test_gb + tn_test_gb + fp_test_gb + fn_test_gb)\n",
    "false_positive_test_gb = fp_test_gb / (fp_test_gb + tn_test_gb)"
   ]
  },
  {
   "cell_type": "code",
   "execution_count": 184,
   "id": "96c05e31-8826-4186-9697-4858984fa92a",
   "metadata": {},
   "outputs": [],
   "source": [
    "mcc_test_tree = matthews_corrcoef(y_test_tree, y_pred_test_tree)\n",
    "mcc_test_forest = matthews_corrcoef(y_test_forest, y_pred_test_forest)\n",
    "mcc_test_gb = matthews_corrcoef(y_test_gb, y_pred_test_gb)"
   ]
  },
  {
   "cell_type": "code",
   "execution_count": 185,
   "id": "8932d3e6-1280-4720-8acd-bd9c25791884",
   "metadata": {},
   "outputs": [],
   "source": [
    "# create a bar plot of the performance metrics for each classifier for the training and test sets\n",
    "labels = ['Accuracy', 'Specificity', 'Sensitivity','1-False\\nPositive\\nRate','MCC']\n",
    "tree_train_values = [accuracy_train_tree,specificity_train_tree,sensitivity_train_tree,1-false_positive_train_tree,mcc_train_tree]\n",
    "forest_train_values = [accuracy_train_forest, specificity_train_forest, sensitivity_train_forest, 1-false_positive_train_forest, mcc_train_forest]\n",
    "gb_train_values = [accuracy_train_gb, specificity_train_gb,sensitivity_train_gb, 1-false_positive_train_gb,mcc_train_gb]"
   ]
  },
  {
   "cell_type": "code",
   "execution_count": 186,
   "id": "1f223c1e-8bfa-4df9-aa15-94629394c0e4",
   "metadata": {},
   "outputs": [],
   "source": [
    "labels = ['Accuracy', 'Specificity', 'Sensitivity','1-False\\nPositive\\nRate','MCC']\n",
    "tree_test_values = [accuracy_test_tree,specificity_test_tree,sensitivity_test_tree,1-false_positive_test_tree,mcc_test_tree]\n",
    "forest_test_values = [accuracy_test_forest, specificity_test_forest, sensitivity_test_forest, 1-false_positive_test_forest, mcc_test_forest]\n",
    "gb_test_values = [accuracy_test_gb, specificity_test_gb,sensitivity_test_gb, 1-false_positive_test_gb,mcc_test_gb]"
   ]
  },
  {
   "cell_type": "code",
   "execution_count": 187,
   "id": "f6ed9ad1-831a-466b-9986-7e9b248d92ca",
   "metadata": {},
   "outputs": [
    {
     "data": {
      "image/png": "[encoded data removed]",
      "text/plain": [
       "<Figure size 1500x500 with 2 Axes>"
      ]
     },
     "metadata": {},
     "output_type": "display_data"
    }
   ],
   "source": [
    "import numpy as np\n",
    "import matplotlib.pyplot as plt\n",
    "\n",
    "x = np.arange(len(labels))  \n",
    "width = 0.2  \n",
    "\n",
    "fig, (ax1, ax2) = plt.subplots(1, 2, figsize=(15, 5))\n",
    "\n",
    "# Colors for the training set\n",
    "colors_train = ['#1476AB', '#F0A818', '#CC1013']\n",
    "\n",
    "# plot the performance metrics for the training set\n",
    "rects2 = ax1.bar(x, tree_train_values, width, label='Decision Tree', color=colors_train[0], alpha=0.7)\n",
    "rects3 = ax1.bar(x + width, forest_train_values, width, label='Random Forest', color=colors_train[1], alpha=0.7)\n",
    "rects1 = ax1.bar(x - width, gb_train_values, width, label='KNN', color=colors_train[2], alpha=0.7)\n",
    "\n",
    "ax1.set_ylabel('Value', fontsize=18)  \n",
    "ax1.set_xticks(x + width / 2)\n",
    "ax1.set_xticklabels(labels, fontsize=11)  \n",
    "ax1.tick_params(axis='y', labelsize=12)  \n",
    "\n",
    "# Colors for the test set\n",
    "colors_test = ['#1476AB', '#E18027', '#CC1013']\n",
    "\n",
    "# plot the performance metrics for the test set\n",
    "rects2 = ax2.bar(x, tree_test_values, width, label='Decision Tree', color=colors_test[0], alpha=0.7)\n",
    "rects3 = ax2.bar(x + width, forest_test_values, width, label='Random Forest', color=colors_test[1], alpha=0.7)\n",
    "rects1 = ax2.bar(x - width, gb_test_values, width, label='Gradient_Bossting', color=colors_test[2], alpha=0.7)\n",
    "\n",
    "ax2.set_ylabel('Value', fontsize=18)  \n",
    "ax2.set_xticks(x + width / 2)\n",
    "ax2.set_xticklabels(labels, fontsize=11) \n",
    "ax2.tick_params(axis='y', labelsize=12)  \n",
    "\n",
    "# Añadir leyenda fuera del gráfico\n",
    "plt.legend(loc='upper center', bbox_to_anchor=(0.5, -0.15), ncol=3, fontsize=14)\n",
    "\n",
    "plt.show()"
   ]
  },
  {
   "cell_type": "code",
   "execution_count": 200,
   "id": "2354d9a0-07e4-4cb5-8637-e1b23815f1f1",
   "metadata": {},
   "outputs": [],
   "source": [
    "#ROC training"
   ]
  },
  {
   "cell_type": "code",
   "execution_count": 201,
   "id": "f56fa71e-a96b-4f95-a84a-64255a23043f",
   "metadata": {},
   "outputs": [],
   "source": [
    "from sklearn.metrics import roc_curve, auc"
   ]
  },
  {
   "cell_type": "code",
   "execution_count": 202,
   "id": "44a16e6d-e880-491f-9560-2a5b3e9e3d38",
   "metadata": {},
   "outputs": [],
   "source": [
    "# Predict probabilities for training set\n",
    "probas_train_tree = grid_search_tree.predict_proba(mlr_X_train_tree)[:, 1]\n",
    "probas_train_forest = grid_search_forest.predict_proba(mlr_X_train_forest)[:, 1]\n",
    "probas_train_gb = grid_search_gb.predict_proba(mlr_X_train_gb)[:, 1]"
   ]
  },
  {
   "cell_type": "code",
   "execution_count": 203,
   "id": "79d6bcee-0b1d-43d1-b5c0-6074aedc58d1",
   "metadata": {},
   "outputs": [],
   "source": [
    "# Compute ROC curve and AUC for decision tree model\n",
    "fpr_train_tree, tpr_train_tree, thresholds_train_tree = roc_curve(y_train_tree, probas_train_tree )\n",
    "roc_auc_train_tree = auc(fpr_train_tree, tpr_train_tree)"
   ]
  },
  {
   "cell_type": "code",
   "execution_count": 204,
   "id": "e04db6cf-29a4-4916-bb3f-a73fb5043c6e",
   "metadata": {},
   "outputs": [],
   "source": [
    "# Compute ROC curve and AUC for ramdom forest\n",
    "fpr_train_forest, tpr_train_forest, thresholds_train_forest = roc_curve(y_train_forest, probas_train_forest )\n",
    "roc_auc_train_forest = auc(fpr_train_forest, tpr_train_forest)"
   ]
  },
  {
   "cell_type": "code",
   "execution_count": 205,
   "id": "d56cf741-dd49-47b8-818f-5f910375449b",
   "metadata": {},
   "outputs": [],
   "source": [
    "# Compute ROC curve and AUC for Gradient Boosting\n",
    "fpr_train_gb, tpr_train_gb, thresholds_train_gb= roc_curve(y_train_gb, probas_train_gb)\n",
    "roc_auc_train_gb = auc(fpr_train_gb, tpr_train_gb)"
   ]
  },
  {
   "cell_type": "code",
   "execution_count": 206,
   "id": "edb46cc9-8a61-4ebc-9e16-a054dac34f8a",
   "metadata": {},
   "outputs": [
    {
     "data": {
      "image/png": "[encoded data removed]",
      "text/plain": [
       "<Figure size 640x480 with 1 Axes>"
      ]
     },
     "metadata": {},
     "output_type": "display_data"
    }
   ],
   "source": [
    "import matplotlib.pyplot as plt\n",
    "\n",
    "# Plot ROC curves\n",
    "plt.plot(fpr_train_tree, tpr_train_tree, color='#1476AB', lw=2, label='Decision tree ROC curve (area = %0.2f)' % roc_auc_train_tree)\n",
    "plt.plot(fpr_train_forest, tpr_train_forest, color='#E18027', lw=2, label='Random Forest ROC curve (area = %0.2f)' % roc_auc_train_forest)\n",
    "plt.plot(fpr_train_gb, tpr_train_gb, color='#AB1414', lw=2, label='Gradient Boosting ROC curve (area = %0.2f)' % roc_auc_train_gb)\n",
    "plt.plot([0, 1], [0, 1], color='#170D03', lw=2, linestyle='--')\n",
    "\n",
    "# Modify letters size of X and Y axes\n",
    "plt.xlabel('False Positive Rate', fontsize=16)\n",
    "plt.ylabel('True Positive Rate', fontsize=16)\n",
    "\n",
    "# Modify number size on X and Y axes\n",
    "plt.xticks(fontsize=12)\n",
    "plt.yticks(fontsize=12)\n",
    "\n",
    "plt.xlim([0.0, 1.0])\n",
    "plt.ylim([0.0, 1.05])\n",
    "#plt.title('Receiver Operating Characteristic (ROC) - Training Set', fontsize=14)\n",
    "plt.legend(loc=\"lower right\", fontsize=9)\n",
    "\n",
    "# Save image with transparent background and resolution of 600 dpi\n",
    "plt.savefig('roc_curve_train.png', dpi=600, transparent=True)\n",
    "plt.show()"
   ]
  },
  {
   "cell_type": "code",
   "execution_count": 207,
   "id": "a69e7d9d-b260-41e7-8759-4f300dc9da81",
   "metadata": {},
   "outputs": [],
   "source": [
    "# Curva ROC prediction "
   ]
  },
  {
   "cell_type": "code",
   "execution_count": 208,
   "id": "b1b6612a-1350-47ef-ae1c-fc8faa5574a9",
   "metadata": {},
   "outputs": [],
   "source": [
    "probas_test_tree = grid_search_tree.predict_proba(mlr_X_test_tree)[:, 1]\n",
    "probas_test_forest = grid_search_forest.predict_proba(mlr_X_test_forest)[:, 1]\n",
    "probas_test_gb = grid_search_gb.predict_proba(mlr_X_test_gb)[:, 1]"
   ]
  },
  {
   "cell_type": "code",
   "execution_count": 209,
   "id": "23576c33-97ef-45f8-b7e1-8e35f41057af",
   "metadata": {},
   "outputs": [],
   "source": [
    "# Compute ROC curve and AUC for decision tree model\n",
    "fpr_test_tree, tpr_test_tree, thresholds_test_tree = roc_curve(y_test_tree, probas_test_tree)\n",
    "roc_auc_test_tree = auc(fpr_test_tree, tpr_test_tree)"
   ]
  },
  {
   "cell_type": "code",
   "execution_count": 210,
   "id": "d3ed7c3a-1c24-486c-bd6f-e3c9c8cbf5fd",
   "metadata": {},
   "outputs": [],
   "source": [
    "# Compute ROC curve and AUC for ramdom forest\n",
    "fpr_test_forest, tpr_test_forest, thresholds_test_forest = roc_curve(y_test_forest, probas_test_forest )\n",
    "roc_auc_test_forest = auc(fpr_test_forest, tpr_test_forest)"
   ]
  },
  {
   "cell_type": "code",
   "execution_count": 211,
   "id": "45dc12af-1006-4879-b0f0-804d439c009d",
   "metadata": {},
   "outputs": [],
   "source": [
    "# Compute ROC curve and AUC for Gradient Boosting\n",
    "fpr_test_gb, tpr_test_gb, thresholds_test_gb= roc_curve(y_test_gb, probas_test_gb)\n",
    "roc_auc_test_gb = auc(fpr_test_gb, tpr_test_gb)"
   ]
  },
  {
   "cell_type": "code",
   "execution_count": 212,
   "id": "4521c903-1fae-4b3c-a376-8e0e204ec748",
   "metadata": {},
   "outputs": [
    {
     "data": {
      "image/png": "[encoded data removed]",
      "text/plain": [
       "<Figure size 640x480 with 1 Axes>"
      ]
     },
     "metadata": {},
     "output_type": "display_data"
    }
   ],
   "source": [
    "import matplotlib.pyplot as plt\n",
    "\n",
    "# Plot ROC curves\n",
    "plt.plot(fpr_train_tree, tpr_train_tree, color='#1476AB', lw=2, label='Decision tree ROC curve (area = %0.2f)' % roc_auc_test_tree)\n",
    "plt.plot(fpr_train_forest, tpr_train_forest, color='#E18027', lw=2, label='Random Forest ROC curve (area = %0.2f)' % roc_auc_test_forest)\n",
    "plt.plot(fpr_train_gb, tpr_train_gb, color='#AB1414', lw=2, label='Gradient Boosting ROC curve (area = %0.2f)' % roc_auc_test_gb)\n",
    "plt.plot([0, 1], [0, 1], color='#170D03', lw=2, linestyle='--')\n",
    "\n",
    "# Modify letters size of X and Y axes\n",
    "plt.xlabel('False Positive Rate', fontsize=16)\n",
    "plt.ylabel('True Positive Rate', fontsize=16)\n",
    "\n",
    "# Modify number size on X and Y axes\n",
    "plt.xticks(fontsize=12)\n",
    "plt.yticks(fontsize=12)\n",
    "\n",
    "plt.xlim([0.0, 1.0])\n",
    "plt.ylim([0.0, 1.05])\n",
    "plt.legend(loc=\"lower right\", fontsize=9)\n",
    "\n",
    "# Save image with transparent background and resolution of 600 dpi\n",
    "plt.savefig('roc_curve_train.png', dpi=600, transparent=True)\n",
    "plt.show()"
   ]
  },
  {
   "cell_type": "code",
   "execution_count": null,
   "id": "5c047d23-c35a-4514-8ae8-ed479167c0e0",
   "metadata": {},
   "outputs": [],
   "source": []
  }
 ],
 "metadata": {
  "kernelspec": {
   "display_name": "Python 3 (ipykernel)",
   "language": "python",
   "name": "python3"
  },
  "language_info": {
   "codemirror_mode": {
    "name": "ipython",
    "version": 3
   },
   "file_extension": ".py",
   "mimetype": "text/x-python",
   "name": "python",
   "nbconvert_exporter": "python",
   "pygments_lexer": "ipython3",
   "version": "3.10.9"
  }
 },
 "nbformat": 4,
 "nbformat_minor": 5
}
